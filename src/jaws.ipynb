{
 "cells": [
  {
   "cell_type": "code",
   "execution_count": 1,
   "id": "59f79eae",
   "metadata": {},
   "outputs": [
    {
     "name": "stdout",
     "output_type": "stream",
     "text": [
      "Requirement already satisfied: ipynb in c:\\users\\daarr\\anaconda3\\lib\\site-packages (0.5.1)\n",
      "Note: you may need to restart the kernel to use updated packages.\n"
     ]
    }
   ],
   "source": [
    "#Importación e instalación de librerías\n",
    "%pip install ipynb --upgrade\n",
    "\n",
    "import pandas as pd\n",
    "import numpy as np\n",
    "import warnings\n",
    "warnings.filterwarnings('ignore')\n",
    "import pylab as plt \n",
    "import seaborn as sns\n",
    "%matplotlib inline\n",
    "from ipynb.fs.full.funclean import *\n"
   ]
  },
  {
   "cell_type": "code",
   "execution_count": 2,
   "id": "325d4375",
   "metadata": {},
   "outputs": [
    {
     "data": {
      "text/plain": [
       "(25723, 24)"
      ]
     },
     "execution_count": 2,
     "metadata": {},
     "output_type": "execute_result"
    }
   ],
   "source": [
    "#Carga de datos y  comprobación del shape\n",
    "pd.set_option('display.max_columns', None)\n",
    "sk_ori = pd.read_csv(\"../attacks.csv\", encoding = \"latin1\")\n",
    "sk_ori.shape\n"
   ]
  },
  {
   "cell_type": "code",
   "execution_count": 3,
   "id": "59d1684d",
   "metadata": {},
   "outputs": [
    {
     "data": {
      "text/html": [
       "<div>\n",
       "<style scoped>\n",
       "    .dataframe tbody tr th:only-of-type {\n",
       "        vertical-align: middle;\n",
       "    }\n",
       "\n",
       "    .dataframe tbody tr th {\n",
       "        vertical-align: top;\n",
       "    }\n",
       "\n",
       "    .dataframe thead th {\n",
       "        text-align: right;\n",
       "    }\n",
       "</style>\n",
       "<table border=\"1\" class=\"dataframe\">\n",
       "  <thead>\n",
       "    <tr style=\"text-align: right;\">\n",
       "      <th></th>\n",
       "      <th>Case Number</th>\n",
       "      <th>Date</th>\n",
       "      <th>Year</th>\n",
       "      <th>Type</th>\n",
       "      <th>Country</th>\n",
       "      <th>Area</th>\n",
       "      <th>Location</th>\n",
       "      <th>Activity</th>\n",
       "      <th>Name</th>\n",
       "      <th>Sex</th>\n",
       "      <th>Age</th>\n",
       "      <th>Injury</th>\n",
       "      <th>Fatal (Y/N)</th>\n",
       "      <th>Time</th>\n",
       "      <th>Species</th>\n",
       "      <th>Investigator or Source</th>\n",
       "      <th>pdf</th>\n",
       "      <th>href formula</th>\n",
       "      <th>href</th>\n",
       "      <th>Case Number.1</th>\n",
       "      <th>Case Number.2</th>\n",
       "      <th>original order</th>\n",
       "      <th>Unnamed: 22</th>\n",
       "      <th>Unnamed: 23</th>\n",
       "    </tr>\n",
       "  </thead>\n",
       "  <tbody>\n",
       "    <tr>\n",
       "      <th>0</th>\n",
       "      <td>2018.06.25</td>\n",
       "      <td>25-Jun-2018</td>\n",
       "      <td>2018.0</td>\n",
       "      <td>Boating</td>\n",
       "      <td>USA</td>\n",
       "      <td>California</td>\n",
       "      <td>Oceanside, San Diego County</td>\n",
       "      <td>Paddling</td>\n",
       "      <td>Julie Wolfe</td>\n",
       "      <td>F</td>\n",
       "      <td>57</td>\n",
       "      <td>No injury to occupant, outrigger canoe and pad...</td>\n",
       "      <td>N</td>\n",
       "      <td>18h00</td>\n",
       "      <td>White shark</td>\n",
       "      <td>R. Collier, GSAF</td>\n",
       "      <td>2018.06.25-Wolfe.pdf</td>\n",
       "      <td>http://sharkattackfile.net/spreadsheets/pdf_di...</td>\n",
       "      <td>http://sharkattackfile.net/spreadsheets/pdf_di...</td>\n",
       "      <td>2018.06.25</td>\n",
       "      <td>2018.06.25</td>\n",
       "      <td>6303.0</td>\n",
       "      <td>NaN</td>\n",
       "      <td>NaN</td>\n",
       "    </tr>\n",
       "    <tr>\n",
       "      <th>1</th>\n",
       "      <td>2018.06.18</td>\n",
       "      <td>18-Jun-2018</td>\n",
       "      <td>2018.0</td>\n",
       "      <td>Unprovoked</td>\n",
       "      <td>USA</td>\n",
       "      <td>Georgia</td>\n",
       "      <td>St. Simon Island, Glynn County</td>\n",
       "      <td>Standing</td>\n",
       "      <td>Adyson McNeely</td>\n",
       "      <td>F</td>\n",
       "      <td>11</td>\n",
       "      <td>Minor injury to left thigh</td>\n",
       "      <td>N</td>\n",
       "      <td>14h00  -15h00</td>\n",
       "      <td>NaN</td>\n",
       "      <td>K.McMurray, TrackingSharks.com</td>\n",
       "      <td>2018.06.18-McNeely.pdf</td>\n",
       "      <td>http://sharkattackfile.net/spreadsheets/pdf_di...</td>\n",
       "      <td>http://sharkattackfile.net/spreadsheets/pdf_di...</td>\n",
       "      <td>2018.06.18</td>\n",
       "      <td>2018.06.18</td>\n",
       "      <td>6302.0</td>\n",
       "      <td>NaN</td>\n",
       "      <td>NaN</td>\n",
       "    </tr>\n",
       "    <tr>\n",
       "      <th>2</th>\n",
       "      <td>2018.06.09</td>\n",
       "      <td>09-Jun-2018</td>\n",
       "      <td>2018.0</td>\n",
       "      <td>Invalid</td>\n",
       "      <td>USA</td>\n",
       "      <td>Hawaii</td>\n",
       "      <td>Habush, Oahu</td>\n",
       "      <td>Surfing</td>\n",
       "      <td>John Denges</td>\n",
       "      <td>M</td>\n",
       "      <td>48</td>\n",
       "      <td>Injury to left lower leg from surfboard skeg</td>\n",
       "      <td>N</td>\n",
       "      <td>07h45</td>\n",
       "      <td>NaN</td>\n",
       "      <td>K.McMurray, TrackingSharks.com</td>\n",
       "      <td>2018.06.09-Denges.pdf</td>\n",
       "      <td>http://sharkattackfile.net/spreadsheets/pdf_di...</td>\n",
       "      <td>http://sharkattackfile.net/spreadsheets/pdf_di...</td>\n",
       "      <td>2018.06.09</td>\n",
       "      <td>2018.06.09</td>\n",
       "      <td>6301.0</td>\n",
       "      <td>NaN</td>\n",
       "      <td>NaN</td>\n",
       "    </tr>\n",
       "    <tr>\n",
       "      <th>3</th>\n",
       "      <td>2018.06.08</td>\n",
       "      <td>08-Jun-2018</td>\n",
       "      <td>2018.0</td>\n",
       "      <td>Unprovoked</td>\n",
       "      <td>AUSTRALIA</td>\n",
       "      <td>New South Wales</td>\n",
       "      <td>Arrawarra Headland</td>\n",
       "      <td>Surfing</td>\n",
       "      <td>male</td>\n",
       "      <td>M</td>\n",
       "      <td>NaN</td>\n",
       "      <td>Minor injury to lower leg</td>\n",
       "      <td>N</td>\n",
       "      <td>NaN</td>\n",
       "      <td>2 m shark</td>\n",
       "      <td>B. Myatt, GSAF</td>\n",
       "      <td>2018.06.08-Arrawarra.pdf</td>\n",
       "      <td>http://sharkattackfile.net/spreadsheets/pdf_di...</td>\n",
       "      <td>http://sharkattackfile.net/spreadsheets/pdf_di...</td>\n",
       "      <td>2018.06.08</td>\n",
       "      <td>2018.06.08</td>\n",
       "      <td>6300.0</td>\n",
       "      <td>NaN</td>\n",
       "      <td>NaN</td>\n",
       "    </tr>\n",
       "    <tr>\n",
       "      <th>4</th>\n",
       "      <td>2018.06.04</td>\n",
       "      <td>04-Jun-2018</td>\n",
       "      <td>2018.0</td>\n",
       "      <td>Provoked</td>\n",
       "      <td>MEXICO</td>\n",
       "      <td>Colima</td>\n",
       "      <td>La Ticla</td>\n",
       "      <td>Free diving</td>\n",
       "      <td>Gustavo Ramos</td>\n",
       "      <td>M</td>\n",
       "      <td>NaN</td>\n",
       "      <td>Lacerations to leg &amp; hand shark PROVOKED INCIDENT</td>\n",
       "      <td>N</td>\n",
       "      <td>NaN</td>\n",
       "      <td>Tiger shark, 3m</td>\n",
       "      <td>A .Kipper</td>\n",
       "      <td>2018.06.04-Ramos.pdf</td>\n",
       "      <td>http://sharkattackfile.net/spreadsheets/pdf_di...</td>\n",
       "      <td>http://sharkattackfile.net/spreadsheets/pdf_di...</td>\n",
       "      <td>2018.06.04</td>\n",
       "      <td>2018.06.04</td>\n",
       "      <td>6299.0</td>\n",
       "      <td>NaN</td>\n",
       "      <td>NaN</td>\n",
       "    </tr>\n",
       "  </tbody>\n",
       "</table>\n",
       "</div>"
      ],
      "text/plain": [
       "  Case Number         Date    Year        Type    Country             Area  \\\n",
       "0  2018.06.25  25-Jun-2018  2018.0     Boating        USA       California   \n",
       "1  2018.06.18  18-Jun-2018  2018.0  Unprovoked        USA          Georgia   \n",
       "2  2018.06.09  09-Jun-2018  2018.0     Invalid        USA           Hawaii   \n",
       "3  2018.06.08  08-Jun-2018  2018.0  Unprovoked  AUSTRALIA  New South Wales   \n",
       "4  2018.06.04  04-Jun-2018  2018.0    Provoked     MEXICO           Colima   \n",
       "\n",
       "                         Location     Activity             Name Sex   Age  \\\n",
       "0     Oceanside, San Diego County     Paddling      Julie Wolfe    F   57   \n",
       "1  St. Simon Island, Glynn County     Standing  Adyson McNeely     F   11   \n",
       "2                    Habush, Oahu      Surfing      John Denges    M   48   \n",
       "3              Arrawarra Headland      Surfing             male    M  NaN   \n",
       "4                        La Ticla  Free diving   Gustavo Ramos     M  NaN   \n",
       "\n",
       "                                              Injury Fatal (Y/N)  \\\n",
       "0  No injury to occupant, outrigger canoe and pad...           N   \n",
       "1                         Minor injury to left thigh           N   \n",
       "2       Injury to left lower leg from surfboard skeg           N   \n",
       "3                          Minor injury to lower leg           N   \n",
       "4  Lacerations to leg & hand shark PROVOKED INCIDENT           N   \n",
       "\n",
       "            Time         Species           Investigator or Source  \\\n",
       "0          18h00      White shark                R. Collier, GSAF   \n",
       "1  14h00  -15h00              NaN  K.McMurray, TrackingSharks.com   \n",
       "2          07h45              NaN  K.McMurray, TrackingSharks.com   \n",
       "3            NaN        2 m shark                  B. Myatt, GSAF   \n",
       "4            NaN  Tiger shark, 3m                       A .Kipper   \n",
       "\n",
       "                        pdf  \\\n",
       "0      2018.06.25-Wolfe.pdf   \n",
       "1    2018.06.18-McNeely.pdf   \n",
       "2     2018.06.09-Denges.pdf   \n",
       "3  2018.06.08-Arrawarra.pdf   \n",
       "4      2018.06.04-Ramos.pdf   \n",
       "\n",
       "                                        href formula  \\\n",
       "0  http://sharkattackfile.net/spreadsheets/pdf_di...   \n",
       "1  http://sharkattackfile.net/spreadsheets/pdf_di...   \n",
       "2  http://sharkattackfile.net/spreadsheets/pdf_di...   \n",
       "3  http://sharkattackfile.net/spreadsheets/pdf_di...   \n",
       "4  http://sharkattackfile.net/spreadsheets/pdf_di...   \n",
       "\n",
       "                                                href Case Number.1  \\\n",
       "0  http://sharkattackfile.net/spreadsheets/pdf_di...    2018.06.25   \n",
       "1  http://sharkattackfile.net/spreadsheets/pdf_di...    2018.06.18   \n",
       "2  http://sharkattackfile.net/spreadsheets/pdf_di...    2018.06.09   \n",
       "3  http://sharkattackfile.net/spreadsheets/pdf_di...    2018.06.08   \n",
       "4  http://sharkattackfile.net/spreadsheets/pdf_di...    2018.06.04   \n",
       "\n",
       "  Case Number.2  original order Unnamed: 22 Unnamed: 23  \n",
       "0    2018.06.25          6303.0         NaN         NaN  \n",
       "1    2018.06.18          6302.0         NaN         NaN  \n",
       "2    2018.06.09          6301.0         NaN         NaN  \n",
       "3    2018.06.08          6300.0         NaN         NaN  \n",
       "4    2018.06.04          6299.0         NaN         NaN  "
      ]
     },
     "execution_count": 3,
     "metadata": {},
     "output_type": "execute_result"
    }
   ],
   "source": [
    "#Creación de copia para trabajar\n",
    "sk = sk_ori.copy()\n",
    "sk.head()"
   ]
  },
  {
   "cell_type": "code",
   "execution_count": 4,
   "id": "8d7073e0",
   "metadata": {},
   "outputs": [
    {
     "name": "stdout",
     "output_type": "stream",
     "text": [
      "<class 'pandas.core.frame.DataFrame'>\n",
      "RangeIndex: 25723 entries, 0 to 25722\n",
      "Data columns (total 24 columns):\n",
      " #   Column                  Non-Null Count  Dtype  \n",
      "---  ------                  --------------  -----  \n",
      " 0   Case Number             8702 non-null   object \n",
      " 1   Date                    6302 non-null   object \n",
      " 2   Year                    6300 non-null   float64\n",
      " 3   Type                    6298 non-null   object \n",
      " 4   Country                 6252 non-null   object \n",
      " 5   Area                    5847 non-null   object \n",
      " 6   Location                5762 non-null   object \n",
      " 7   Activity                5758 non-null   object \n",
      " 8   Name                    6092 non-null   object \n",
      " 9   Sex                     5737 non-null   object \n",
      " 10  Age                     3471 non-null   object \n",
      " 11  Injury                  6274 non-null   object \n",
      " 12  Fatal (Y/N)             5763 non-null   object \n",
      " 13  Time                    2948 non-null   object \n",
      " 14  Species                 3464 non-null   object \n",
      " 15  Investigator or Source  6285 non-null   object \n",
      " 16  pdf                     6302 non-null   object \n",
      " 17  href formula            6301 non-null   object \n",
      " 18  href                    6302 non-null   object \n",
      " 19  Case Number.1           6302 non-null   object \n",
      " 20  Case Number.2           6302 non-null   object \n",
      " 21  original order          6309 non-null   float64\n",
      " 22  Unnamed: 22             1 non-null      object \n",
      " 23  Unnamed: 23             2 non-null      object \n",
      "dtypes: float64(2), object(22)\n",
      "memory usage: 4.7+ MB\n"
     ]
    }
   ],
   "source": [
    "#Información sobre columnas y data types\n",
    "sk.info()"
   ]
  },
  {
   "cell_type": "markdown",
   "id": "aeb6e348",
   "metadata": {},
   "source": [
    "# RENAME DE COLUMNAS PARA FACILITAR SU ACCESO"
   ]
  },
  {
   "cell_type": "code",
   "execution_count": 5,
   "id": "4e7f5316",
   "metadata": {},
   "outputs": [],
   "source": [
    "#Renombro columnas haciendo strip, quitando espacios y sustituyendo caracteres indeseados\n",
    "sk.columns = [c.rstrip().replace(\" \", \"_\").replace(\".\",\"_\").replace(\":\",\"\") for c in sk.columns]\n",
    "sk = sk.rename(columns={'Fatal_(Y/N)': 'Fatal'})"
   ]
  },
  {
   "cell_type": "code",
   "execution_count": 6,
   "id": "cee3b322",
   "metadata": {},
   "outputs": [
    {
     "data": {
      "text/plain": [
       "'http://sharkattackfile.net/spreadsheets/pdf_directory/2018.06.25-Wolfe.pdf'"
      ]
     },
     "execution_count": 6,
     "metadata": {},
     "output_type": "execute_result"
    }
   ],
   "source": [
    "#Investigación de documentos sobre succesos\n",
    "sk.loc[0,\"href_formula\"]"
   ]
  },
  {
   "cell_type": "code",
   "execution_count": 7,
   "id": "8c8fae17",
   "metadata": {},
   "outputs": [
    {
     "data": {
      "text/plain": [
       "'N nan cols: 24'"
      ]
     },
     "metadata": {},
     "output_type": "display_data"
    },
    {
     "data": {
      "text/plain": [
       "Case_Number               66.170353\n",
       "Date                      75.500525\n",
       "Year                      75.508300\n",
       "Type                      75.516075\n",
       "Country                   75.694903\n",
       "Area                      77.269370\n",
       "Location                  77.599813\n",
       "Activity                  77.615364\n",
       "Name                      76.316915\n",
       "Sex                       77.697003\n",
       "Age                       86.506240\n",
       "Injury                    75.609377\n",
       "Fatal                     77.595926\n",
       "Time                      88.539439\n",
       "Species                   86.533453\n",
       "Investigator_or_Source    75.566614\n",
       "pdf                       75.500525\n",
       "href_formula              75.504412\n",
       "href                      75.500525\n",
       "Case_Number_1             75.500525\n",
       "Case_Number_2             75.500525\n",
       "original_order            75.473312\n",
       "Unnamed_22                99.996112\n",
       "Unnamed_23                99.992225\n",
       "dtype: float64"
      ]
     },
     "metadata": {},
     "output_type": "display_data"
    },
    {
     "data": {
      "image/png": "[encoded data removed]",
      "text/plain": [
       "<Figure size 1000x600 with 1 Axes>"
      ]
     },
     "metadata": {},
     "output_type": "display_data"
    }
   ],
   "source": [
    "#Aplico fórmula de checkeo de porcentaje de valores nulos en columnas\n",
    "check_nan(sk)"
   ]
  },
  {
   "cell_type": "markdown",
   "id": "e7b4aa73",
   "metadata": {},
   "source": [
    "# CHECKEO DE LAS FILAS QUE TIENEN TODAS O CASI TODAS LAS COLUMNAS NULAS"
   ]
  },
  {
   "cell_type": "code",
   "execution_count": 8,
   "id": "d952ed6c",
   "metadata": {},
   "outputs": [
    {
     "data": {
      "text/plain": [
       "(19421, 25)"
      ]
     },
     "execution_count": 8,
     "metadata": {},
     "output_type": "execute_result"
    }
   ],
   "source": [
    "#Busco filas con muchos valores nulos\n",
    "num_nan = []\n",
    "for fila in sk.itertuples():   \n",
    "    check = []    \n",
    "    for e in fila:\n",
    "        check.append(pd.isna(e))\n",
    "        \n",
    "    num_nan.append(sum(check))\n",
    "#AÑADO COLUMNA CON NUMERO DE COLUMNAS NULAS POR REGISTRO\n",
    "sk['num_nan'] = [sum([pd.isna(e) for e in fila]) \n",
    "                 for fila in sk.itertuples()]\n",
    "\n",
    "(sk[sk.num_nan>=22].shape)    #19421 registros con más de 22 columnas nulas // LOS BORRO\n"
   ]
  },
  {
   "cell_type": "code",
   "execution_count": 9,
   "id": "5d711098",
   "metadata": {},
   "outputs": [
    {
     "data": {
      "text/plain": [
       "(6302, 25)"
      ]
     },
     "execution_count": 9,
     "metadata": {},
     "output_type": "execute_result"
    }
   ],
   "source": [
    "#Elimino filas con más de 22 columnas con valores nulos\n",
    "sk = sk[sk.num_nan<22]\n",
    "sk.shape"
   ]
  },
  {
   "cell_type": "markdown",
   "id": "f38f3c8f",
   "metadata": {},
   "source": [
    "# CHECKEO DE DUPLICADOS"
   ]
  },
  {
   "cell_type": "code",
   "execution_count": 10,
   "id": "6c7b3b5f",
   "metadata": {},
   "outputs": [
    {
     "data": {
      "text/html": [
       "<div>\n",
       "<style scoped>\n",
       "    .dataframe tbody tr th:only-of-type {\n",
       "        vertical-align: middle;\n",
       "    }\n",
       "\n",
       "    .dataframe tbody tr th {\n",
       "        vertical-align: top;\n",
       "    }\n",
       "\n",
       "    .dataframe thead th {\n",
       "        text-align: right;\n",
       "    }\n",
       "</style>\n",
       "<table border=\"1\" class=\"dataframe\">\n",
       "  <thead>\n",
       "    <tr style=\"text-align: right;\">\n",
       "      <th></th>\n",
       "      <th>Case_Number</th>\n",
       "      <th>Date</th>\n",
       "      <th>Year</th>\n",
       "      <th>Type</th>\n",
       "      <th>Country</th>\n",
       "      <th>Area</th>\n",
       "      <th>Location</th>\n",
       "      <th>Activity</th>\n",
       "      <th>Name</th>\n",
       "      <th>Sex</th>\n",
       "      <th>Age</th>\n",
       "      <th>Injury</th>\n",
       "      <th>Fatal</th>\n",
       "      <th>Time</th>\n",
       "      <th>Species</th>\n",
       "      <th>Investigator_or_Source</th>\n",
       "      <th>pdf</th>\n",
       "      <th>href_formula</th>\n",
       "      <th>href</th>\n",
       "      <th>Case_Number_1</th>\n",
       "      <th>Case_Number_2</th>\n",
       "      <th>original_order</th>\n",
       "      <th>Unnamed_22</th>\n",
       "      <th>Unnamed_23</th>\n",
       "      <th>num_nan</th>\n",
       "    </tr>\n",
       "  </thead>\n",
       "  <tbody>\n",
       "    <tr>\n",
       "      <th>4905</th>\n",
       "      <td>1935.06.05.R</td>\n",
       "      <td>Reported 05-Jun-1935</td>\n",
       "      <td>1935.0</td>\n",
       "      <td>Unprovoked</td>\n",
       "      <td>SOLOMON ISLANDS</td>\n",
       "      <td>Makira-Uluwa Province</td>\n",
       "      <td>Makira Island</td>\n",
       "      <td>Fishing</td>\n",
       "      <td>a native</td>\n",
       "      <td>M</td>\n",
       "      <td>NaN</td>\n",
       "      <td>FATAL</td>\n",
       "      <td>Y</td>\n",
       "      <td>NaN</td>\n",
       "      <td>NaN</td>\n",
       "      <td>Sydney Mail, 6/5/1935</td>\n",
       "      <td>1935.06.05.R-SolomonIslands.pdf</td>\n",
       "      <td>http://sharkattackfile.net/spreadsheets/pdf_di...</td>\n",
       "      <td>http://sharkattackfile.net/spreadsheets/pdf_di...</td>\n",
       "      <td>1935.06.05.R</td>\n",
       "      <td>1935.06.05.R</td>\n",
       "      <td>1398.0</td>\n",
       "      <td>NaN</td>\n",
       "      <td>NaN</td>\n",
       "      <td>5</td>\n",
       "    </tr>\n",
       "    <tr>\n",
       "      <th>4906</th>\n",
       "      <td>1935.06.00.b</td>\n",
       "      <td>Jun-1935</td>\n",
       "      <td>1935.0</td>\n",
       "      <td>Boating</td>\n",
       "      <td>AUSTRALIA</td>\n",
       "      <td>South Australia</td>\n",
       "      <td>Off Port Broughton</td>\n",
       "      <td>NaN</td>\n",
       "      <td>A dinghy, occupant J.W. Wall</td>\n",
       "      <td>NaN</td>\n",
       "      <td>NaN</td>\n",
       "      <td>Shark bumped dinghy twice</td>\n",
       "      <td>N</td>\n",
       "      <td>NaN</td>\n",
       "      <td>NaN</td>\n",
       "      <td>Australian Woman's Weekly, 8/27/1938</td>\n",
       "      <td>1935.06.05.R-SolomonIslands.pdf</td>\n",
       "      <td>http://sharkattackfile.net/spreadsheets/pdf_di...</td>\n",
       "      <td>http://sharkattackfile.net/spreadsheets/pdf_di...</td>\n",
       "      <td>1935.06.00.b</td>\n",
       "      <td>1935.06.00.b</td>\n",
       "      <td>1397.0</td>\n",
       "      <td>NaN</td>\n",
       "      <td>NaN</td>\n",
       "      <td>7</td>\n",
       "    </tr>\n",
       "    <tr>\n",
       "      <th>4927</th>\n",
       "      <td>1934.12.23.b</td>\n",
       "      <td>23-Dec-1934</td>\n",
       "      <td>1934.0</td>\n",
       "      <td>Unprovoked</td>\n",
       "      <td>AUSTRALIA</td>\n",
       "      <td>New South Wales</td>\n",
       "      <td>Woy Woy  on the Brisbane Waters</td>\n",
       "      <td>Taken as he dived into the water</td>\n",
       "      <td>Roy Inman</td>\n",
       "      <td>M</td>\n",
       "      <td>14</td>\n",
       "      <td>FATAL</td>\n",
       "      <td>Y</td>\n",
       "      <td>13h00</td>\n",
       "      <td>NaN</td>\n",
       "      <td>V.M. Coppleson (1958), pp.85-86 &amp; 233; A. MacC...</td>\n",
       "      <td>1934.12.23.a-b-Inman.pdf</td>\n",
       "      <td>http://sharkattackfile.net/spreadsheets/pdf_di...</td>\n",
       "      <td>http://sharkattackfile.net/spreadsheets/pdf_di...</td>\n",
       "      <td>1934.12.23.b</td>\n",
       "      <td>1934.12.23.b</td>\n",
       "      <td>1376.0</td>\n",
       "      <td>NaN</td>\n",
       "      <td>NaN</td>\n",
       "      <td>3</td>\n",
       "    </tr>\n",
       "    <tr>\n",
       "      <th>4928</th>\n",
       "      <td>1934.12.23.a</td>\n",
       "      <td>23-Oct-1934</td>\n",
       "      <td>1934.0</td>\n",
       "      <td>Unprovoked</td>\n",
       "      <td>AUSTRALIA</td>\n",
       "      <td>New South Wales</td>\n",
       "      <td>Woy Woy on the Brisbane Waters</td>\n",
       "      <td>Swimming &amp; splashing</td>\n",
       "      <td>Joyce Inman (Roys sister)</td>\n",
       "      <td>M</td>\n",
       "      <td>12</td>\n",
       "      <td>Leg injured</td>\n",
       "      <td>N</td>\n",
       "      <td>13h00</td>\n",
       "      <td>NaN</td>\n",
       "      <td>J. Green, pp.10 &amp; 33 corrects earlier accounts...</td>\n",
       "      <td>1934.12.23.a-b-Inman.pdf</td>\n",
       "      <td>http://sharkattackfile.net/spreadsheets/pdf_di...</td>\n",
       "      <td>http://sharkattackfile.net/spreadsheets/pdf_di...</td>\n",
       "      <td>1934.12.23.a</td>\n",
       "      <td>1934.12.23.a</td>\n",
       "      <td>1375.0</td>\n",
       "      <td>NaN</td>\n",
       "      <td>NaN</td>\n",
       "      <td>3</td>\n",
       "    </tr>\n",
       "    <tr>\n",
       "      <th>5003</th>\n",
       "      <td>1931.09.21.b</td>\n",
       "      <td>21-Sep-1931</td>\n",
       "      <td>1931.0</td>\n",
       "      <td>Unprovoked</td>\n",
       "      <td>USA</td>\n",
       "      <td>Florida</td>\n",
       "      <td>Municipal Beach, West Palm Beach, Palm Beach C...</td>\n",
       "      <td>Swimming</td>\n",
       "      <td>Sam Barrows</td>\n",
       "      <td>M</td>\n",
       "      <td>NaN</td>\n",
       "      <td>Minor injury</td>\n",
       "      <td>N</td>\n",
       "      <td>NaN</td>\n",
       "      <td>NaN</td>\n",
       "      <td>L. Schultz &amp; M. Malin, p.534</td>\n",
       "      <td>1931.09.21.a-b-Holaday-Barrows.pdf</td>\n",
       "      <td>http://sharkattackfile.net/spreadsheets/pdf_di...</td>\n",
       "      <td>http://sharkattackfile.net/spreadsheets/pdf_di...</td>\n",
       "      <td>1931.09.21.b</td>\n",
       "      <td>1931.09.21.b</td>\n",
       "      <td>1300.0</td>\n",
       "      <td>NaN</td>\n",
       "      <td>NaN</td>\n",
       "      <td>5</td>\n",
       "    </tr>\n",
       "  </tbody>\n",
       "</table>\n",
       "</div>"
      ],
      "text/plain": [
       "       Case_Number                  Date    Year        Type          Country  \\\n",
       "4905  1935.06.05.R  Reported 05-Jun-1935  1935.0  Unprovoked  SOLOMON ISLANDS   \n",
       "4906  1935.06.00.b              Jun-1935  1935.0     Boating        AUSTRALIA   \n",
       "4927  1934.12.23.b           23-Dec-1934  1934.0  Unprovoked        AUSTRALIA   \n",
       "4928  1934.12.23.a           23-Oct-1934  1934.0  Unprovoked        AUSTRALIA   \n",
       "5003  1931.09.21.b           21-Sep-1931  1931.0  Unprovoked              USA   \n",
       "\n",
       "                       Area  \\\n",
       "4905  Makira-Uluwa Province   \n",
       "4906        South Australia   \n",
       "4927        New South Wales   \n",
       "4928        New South Wales   \n",
       "5003                Florida   \n",
       "\n",
       "                                               Location  \\\n",
       "4905                                      Makira Island   \n",
       "4906                                 Off Port Broughton   \n",
       "4927                    Woy Woy  on the Brisbane Waters   \n",
       "4928                     Woy Woy on the Brisbane Waters   \n",
       "5003  Municipal Beach, West Palm Beach, Palm Beach C...   \n",
       "\n",
       "                              Activity                          Name  Sex  \\\n",
       "4905                           Fishing                      a native    M   \n",
       "4906                               NaN  A dinghy, occupant J.W. Wall  NaN   \n",
       "4927  Taken as he dived into the water                     Roy Inman    M   \n",
       "4928              Swimming & splashing    Joyce Inman (Roys sister)    M   \n",
       "5003                          Swimming                   Sam Barrows    M   \n",
       "\n",
       "      Age                     Injury Fatal   Time Species  \\\n",
       "4905  NaN                      FATAL     Y    NaN     NaN   \n",
       "4906  NaN  Shark bumped dinghy twice     N    NaN     NaN   \n",
       "4927   14                      FATAL     Y  13h00     NaN   \n",
       "4928   12                Leg injured     N  13h00     NaN   \n",
       "5003  NaN               Minor injury     N    NaN     NaN   \n",
       "\n",
       "                                 Investigator_or_Source  \\\n",
       "4905                              Sydney Mail, 6/5/1935   \n",
       "4906               Australian Woman's Weekly, 8/27/1938   \n",
       "4927  V.M. Coppleson (1958), pp.85-86 & 233; A. MacC...   \n",
       "4928  J. Green, pp.10 & 33 corrects earlier accounts...   \n",
       "5003                       L. Schultz & M. Malin, p.534   \n",
       "\n",
       "                                     pdf  \\\n",
       "4905     1935.06.05.R-SolomonIslands.pdf   \n",
       "4906     1935.06.05.R-SolomonIslands.pdf   \n",
       "4927            1934.12.23.a-b-Inman.pdf   \n",
       "4928            1934.12.23.a-b-Inman.pdf   \n",
       "5003  1931.09.21.a-b-Holaday-Barrows.pdf   \n",
       "\n",
       "                                           href_formula  \\\n",
       "4905  http://sharkattackfile.net/spreadsheets/pdf_di...   \n",
       "4906  http://sharkattackfile.net/spreadsheets/pdf_di...   \n",
       "4927  http://sharkattackfile.net/spreadsheets/pdf_di...   \n",
       "4928  http://sharkattackfile.net/spreadsheets/pdf_di...   \n",
       "5003  http://sharkattackfile.net/spreadsheets/pdf_di...   \n",
       "\n",
       "                                                   href Case_Number_1  \\\n",
       "4905  http://sharkattackfile.net/spreadsheets/pdf_di...  1935.06.05.R   \n",
       "4906  http://sharkattackfile.net/spreadsheets/pdf_di...  1935.06.00.b   \n",
       "4927  http://sharkattackfile.net/spreadsheets/pdf_di...  1934.12.23.b   \n",
       "4928  http://sharkattackfile.net/spreadsheets/pdf_di...  1934.12.23.a   \n",
       "5003  http://sharkattackfile.net/spreadsheets/pdf_di...  1931.09.21.b   \n",
       "\n",
       "     Case_Number_2  original_order Unnamed_22 Unnamed_23  num_nan  \n",
       "4905  1935.06.05.R          1398.0        NaN        NaN        5  \n",
       "4906  1935.06.00.b          1397.0        NaN        NaN        7  \n",
       "4927  1934.12.23.b          1376.0        NaN        NaN        3  \n",
       "4928  1934.12.23.a          1375.0        NaN        NaN        3  \n",
       "5003  1931.09.21.b          1300.0        NaN        NaN        5  "
      ]
     },
     "execution_count": 10,
     "metadata": {},
     "output_type": "execute_result"
    }
   ],
   "source": [
    "#Compruebo filas completamente duplicadas --> No hay\n",
    "sk[sk.duplicated()]\n",
    "#Compruebo filas con la columna \"href_formula\" duplicada\n",
    "#Hay algunas, pero todas salvo 1 son repetidas porque hacen referencia a un mismo evento/incidente\n",
    "sk[sk.duplicated(\"href_formula\", keep = False)].head()\n"
   ]
  },
  {
   "cell_type": "markdown",
   "id": "1f562fec",
   "metadata": {},
   "source": [
    "### Hay casos que son diferentes pero tienen asociados el mismo documento/reporte en las columnas href\n",
    "### siendo generalmente correcto para uno de ellos e incorrecto para el siguiente"
   ]
  },
  {
   "cell_type": "markdown",
   "id": "56898768",
   "metadata": {},
   "source": [
    "# CHECKEO DE COLUMNAS IDÉNTICAS O QUASI-IDÉNTICAS"
   ]
  },
  {
   "cell_type": "code",
   "execution_count": 11,
   "id": "b9e3a178",
   "metadata": {},
   "outputs": [
    {
     "data": {
      "text/html": [
       "<div>\n",
       "<style scoped>\n",
       "    .dataframe tbody tr th:only-of-type {\n",
       "        vertical-align: middle;\n",
       "    }\n",
       "\n",
       "    .dataframe tbody tr th {\n",
       "        vertical-align: top;\n",
       "    }\n",
       "\n",
       "    .dataframe thead th {\n",
       "        text-align: right;\n",
       "    }\n",
       "</style>\n",
       "<table border=\"1\" class=\"dataframe\">\n",
       "  <thead>\n",
       "    <tr style=\"text-align: right;\">\n",
       "      <th></th>\n",
       "      <th>Case_Number</th>\n",
       "      <th>Case_Number_1</th>\n",
       "      <th>Case_Number_2</th>\n",
       "    </tr>\n",
       "  </thead>\n",
       "  <tbody>\n",
       "    <tr>\n",
       "      <th>34</th>\n",
       "      <td>2018.04.03</td>\n",
       "      <td>2018.04.02</td>\n",
       "      <td>2018.04.03</td>\n",
       "    </tr>\n",
       "    <tr>\n",
       "      <th>117</th>\n",
       "      <td>2017.07.20.a</td>\n",
       "      <td>2017/07.20.a</td>\n",
       "      <td>2017.07.20.a</td>\n",
       "    </tr>\n",
       "    <tr>\n",
       "      <th>144</th>\n",
       "      <td>2017.05.06</td>\n",
       "      <td>2017.06.06</td>\n",
       "      <td>2017.05.06</td>\n",
       "    </tr>\n",
       "    <tr>\n",
       "      <th>217</th>\n",
       "      <td>2016.09.15</td>\n",
       "      <td>2016.09.16</td>\n",
       "      <td>2016.09.15</td>\n",
       "    </tr>\n",
       "    <tr>\n",
       "      <th>314</th>\n",
       "      <td>2016.01.24.b</td>\n",
       "      <td>2015.01.24.b</td>\n",
       "      <td>2016.01.24.b</td>\n",
       "    </tr>\n",
       "  </tbody>\n",
       "</table>\n",
       "</div>"
      ],
      "text/plain": [
       "      Case_Number Case_Number_1 Case_Number_2\n",
       "34     2018.04.03    2018.04.02    2018.04.03\n",
       "117  2017.07.20.a  2017/07.20.a  2017.07.20.a\n",
       "144    2017.05.06    2017.06.06    2017.05.06\n",
       "217    2016.09.15    2016.09.16    2016.09.15\n",
       "314  2016.01.24.b  2015.01.24.b  2016.01.24.b"
      ]
     },
     "execution_count": 11,
     "metadata": {},
     "output_type": "execute_result"
    }
   ],
   "source": [
    "#Checkeo las 3 columnas Case_Number que parecen casi-idénticas\n",
    "lista = [\"Case_Number\",\"Case_Number_1\",\"Case_Number_2\"]\n",
    "sk[lista][(sk[\"Case_Number_2\"] != sk[\"Case_Number_1\"])|(sk[\"Case_Number_2\"] != sk[\"Case_Number\"])|(sk[\"Case_Number\"] != sk[\"Case_Number_1\"])].head()\n",
    "\n"
   ]
  },
  {
   "cell_type": "markdown",
   "id": "0c890232",
   "metadata": {},
   "source": [
    "## Parece que las tres columnas contienen más o menos la misma información\n",
    "## Se va a igualar la columna \"Case_Number\" a \"Case_Number_2\"(ya que parece que es la más límpia) y se va a terminar de limpiar esa columna.\n"
   ]
  },
  {
   "cell_type": "code",
   "execution_count": 12,
   "id": "ee397b07",
   "metadata": {},
   "outputs": [],
   "source": [
    "#Con la columna Case_Number es con la que se va a trabajar principalmente para el conteo de casos\n",
    "sk.Case_Number = sk.Case_Number_2\n"
   ]
  },
  {
   "cell_type": "markdown",
   "id": "6c942380",
   "metadata": {},
   "source": [
    "# LIMPIEZA DE LA COLUMNA CASE_NUMBER CON 2 FUNCIONES CREADAS"
   ]
  },
  {
   "cell_type": "code",
   "execution_count": 13,
   "id": "c8349b04",
   "metadata": {},
   "outputs": [],
   "source": [
    "#limpiar_case - strip-lower-replace\n",
    "sk.Case_Number = sk.Case_Number.apply(limpiar_case)\n"
   ]
  },
  {
   "cell_type": "code",
   "execution_count": 14,
   "id": "80fdb9ab",
   "metadata": {},
   "outputs": [],
   "source": [
    "#limpiar_case2 - pone \"nd\" en los que no tienen formato fecha\n",
    "\n",
    "\n",
    "#sk.Case_Number[(sk.Case_Number.str[0] != \"2\") & (sk.Case_Number.str[0] != \"1\") & (sk.Case_Number.str[0:2] != \"nd\")]\n",
    "\n",
    "sk.Case_Number = sk.Case_Number.apply(limpiar_case2)\n"
   ]
  },
  {
   "cell_type": "markdown",
   "id": "82c4e7c0",
   "metadata": {},
   "source": [
    "# LIMPIEZA DE NULOS"
   ]
  },
  {
   "cell_type": "code",
   "execution_count": 15,
   "id": "24ccfb05",
   "metadata": {},
   "outputs": [],
   "source": [
    "#sk.Unnamed_22[sk.Unnamed_22.notna()]\n",
    "#sk.Unnamed_23[sk.Unnamed_23.notna()]"
   ]
  },
  {
   "cell_type": "code",
   "execution_count": 16,
   "id": "13cf7133",
   "metadata": {},
   "outputs": [],
   "source": [
    "#Quito los nulos de las 2 ultimas columnas(con todo nulos) y les pongo \"-\"\n",
    "sk[[\"Unnamed_22\",\"Unnamed_23\"]] = \"-\"\n"
   ]
  },
  {
   "cell_type": "code",
   "execution_count": 17,
   "id": "86f9cc5c",
   "metadata": {},
   "outputs": [],
   "source": [
    "#Relleno los nulos de la columna Year con los 4 primeros carácteres de la columna Case_Number, que en la mayoría de casos\n",
    "# coincide con el año\n",
    "sk.Year[sk.Year.isna()] = sk.Case_Number.str[0:4]\n"
   ]
  },
  {
   "cell_type": "code",
   "execution_count": 18,
   "id": "ca6585d0",
   "metadata": {},
   "outputs": [],
   "source": [
    "#Relleno los nulos de la columna Type con \"unknown\"\n",
    "sk.Type[sk.Type.isna()] = \"unknown\"\n",
    "#Creo una columna que recuenta las columnas con valores nulos de cada fila\n",
    "sk['num_nan'] = [sum([pd.isna(e) for e in fila]) \n",
    "                 for fila in sk.itertuples()]\n"
   ]
  },
  {
   "cell_type": "code",
   "execution_count": 19,
   "id": "c0005544",
   "metadata": {},
   "outputs": [],
   "source": [
    "#Relleno los nulos de otras columnas con \"unknown\"\n",
    "lst = [\"Country\",\"Area\",\"Location\",\"Activity\",\"Sex\",\"Age\",\"Injury\"]\n",
    "for ele in lst:\n",
    "    sk[ele][sk[ele].isna()] = \"unknown\""
   ]
  },
  {
   "cell_type": "code",
   "execution_count": 20,
   "id": "3b64f314",
   "metadata": {},
   "outputs": [
    {
     "name": "stdout",
     "output_type": "stream",
     "text": [
      "(539, 25)\n",
      "(487, 25)\n"
     ]
    }
   ],
   "source": [
    "#Relleno la columna Fatal con \"Y\" (Yes) cuando en la columna Injury aparece la palabra \"fatal\"\n",
    "print(sk[sk.Fatal.isna()].shape)\n",
    "\n",
    "i = 0\n",
    "for ele in sk.Injury:\n",
    "    if \"fatal\" in ele.lower():\n",
    "        sk.Fatal.iloc[i] = \"Y\"\n",
    "    i += 1\n",
    "print(sk[sk.Fatal.isna()].shape)"
   ]
  },
  {
   "cell_type": "code",
   "execution_count": 21,
   "id": "efa67227",
   "metadata": {},
   "outputs": [],
   "source": [
    "#Relleno los nulos de otras columnas con \"unknown\"\n",
    "sk.Fatal[sk.Fatal.isna()] = \"unknown\"\n",
    "sk.Name[sk.Name.isna()] = \"unknown\"\n",
    "sk.Time[sk.Time.isna()] = \"unknown\"\n",
    "sk.Species[sk.Species.isna()] = \"unknown\"\n",
    "\n",
    "#check_nan(sk)\n",
    "\n",
    "#Relleno los nulos de la columna href_formula con los valores de la columna href ya que contienen maypritariamente\n",
    "# la misma información\n",
    "sk.href_formula[sk.href_formula.isna()] = sk.href\n",
    "\n"
   ]
  },
  {
   "cell_type": "markdown",
   "id": "eaaf9484",
   "metadata": {},
   "source": [
    "# LIMPIEZA / CATEGORIZACION DE COLUMNAS"
   ]
  },
  {
   "cell_type": "code",
   "execution_count": 22,
   "id": "a9a31f39",
   "metadata": {},
   "outputs": [],
   "source": [
    "#Edito la columna Date para que contenga exclusivamente el mes \n",
    "\n",
    "a = sk.shape[0]\n",
    "meses = [\"Jan\",\"Feb\",\"Mar\",\"Apr\",\"May\",\"Jun\",\"Jul\",\"Aug\",\"Sep\",\"Oct\",\"Nov\",\"Dec\"]\n",
    "suma = 0\n",
    "for mes in meses:    \n",
    "    suma += len(sk.Date[sk.Date.str.contains(mes, regex = False)])\n",
    "i = 0\n",
    "for ele in sk.Date:\n",
    "    for mes in meses:\n",
    "        if mes in ele:\n",
    "            sk.Date.iloc[i] = mes\n",
    "    i += 1\n"
   ]
  },
  {
   "cell_type": "code",
   "execution_count": 23,
   "id": "4fdce1d5",
   "metadata": {},
   "outputs": [
    {
     "name": "stdout",
     "output_type": "stream",
     "text": [
      "519\n",
      "5783\n"
     ]
    }
   ],
   "source": [
    "#Pierdo 519 registros con la acción anterior\n",
    "sk = sk[sk.Date.isin(meses)]\n",
    "print(a - sk.shape[0])\n",
    "print(sk.shape[0])"
   ]
  },
  {
   "cell_type": "code",
   "execution_count": 24,
   "id": "a7c5bb6b",
   "metadata": {},
   "outputs": [
    {
     "data": {
      "text/plain": [
       "array(['Jun', 'May', 'Apr', 'Mar', 'Feb', 'Jan', 'Dec', 'Nov', 'Oct',\n",
       "       'Sep', 'Aug', 'Jul'], dtype=object)"
      ]
     },
     "execution_count": 24,
     "metadata": {},
     "output_type": "execute_result"
    }
   ],
   "source": [
    "#Renombro la columna a \"Month\"\n",
    "sk.rename(columns={\"Date\":\"Month\"}, inplace=True)\n",
    "sk.Month.unique()"
   ]
  },
  {
   "cell_type": "markdown",
   "id": "7e6b365a",
   "metadata": {},
   "source": [
    "# Limpieza columna Type"
   ]
  },
  {
   "cell_type": "code",
   "execution_count": 25,
   "id": "3e1e488d",
   "metadata": {},
   "outputs": [
    {
     "data": {
      "text/plain": [
       "array(['Boating', 'Unprovoked', 'unknown', 'Provoked', 'Questionable',\n",
       "       'Sea Disaster'], dtype=object)"
      ]
     },
     "execution_count": 25,
     "metadata": {},
     "output_type": "execute_result"
    }
   ],
   "source": [
    "#boating --> Función que categoriza como \"Boating\" cuando contiene la palabra boat y que cambia \"Invalid\" por \"unknown\"\n",
    "#sk.Type.unique()\n",
    "sk.Type = sk.Type.apply(boating)\n",
    "sk.Type.unique()\n",
    "\n"
   ]
  },
  {
   "cell_type": "markdown",
   "id": "eb15b5a2",
   "metadata": {},
   "source": [
    "# Limpieza columna Country"
   ]
  },
  {
   "cell_type": "code",
   "execution_count": 26,
   "id": "9dd8af3d",
   "metadata": {},
   "outputs": [],
   "source": [
    "#Importo un archivo csv que contiene los nombres de los paises y su correspondiente codigo ISO\n",
    "paises = pd.read_csv(\"../paises.csv\")\n",
    "paises.head()\n",
    "paises.columns = [c.lstrip() for c in paises.columns]\n",
    "#Creo un diccionario con la key el nombre del país en minuscula y value el código ISO\n",
    "dict_paises ={}\n",
    "paises.name = paises.name.apply(lambda x: x.lower())\n",
    "paises.head()\n",
    "i = 0\n",
    "for ele in paises.name:\n",
    "    dict_paises[ele] = paises.iso3.iloc[i]\n",
    "    i += 1\n",
    "#Añado algunas categorias más relacionas con los valores no incluidos con mayor sk.Country.value_counts()\n",
    "dict_paises[\"usa\"] = \"USA\"\n",
    "dict_paises[\"england\"] = \"GBR\"\n",
    "dict_paises[\"scotland\"] = \"GBR\"\n",
    "dict_paises[\"korea\"] = \"KOR\"\n",
    "dict_paises[\"UNITED ARAB EMIRATES (UAE)\".lower()] = \"ARE\"\n",
    "dict_paises[\"CARIBBEAN SEA\".lower()] = \"CAR\"\n",
    "dict_paises[\"tonga\"] = \"TON\"\n",
    "dict_paises[\"SOUTH CHINA SEA\".lower()] = \"CHN\"\n",
    "dict_paises[\"PHILIPPINES\".lower()] = \"PHL\"\n",
    "dict_paises[\"egypt\"] = \"EGY\"\n",
    "dict_paises[\"MEXICO\"] = \"MEX\"\n",
    "dict_paises[\"REUNION\".lower()] = \"REU\"\n",
    "dict_paises[\"PACIFIC OCEAN\".lower()] = \"PAC\"\n",
    "dict_paises[\"ATLANTIC OCEAN\".lower()] = \"ATL\""
   ]
  },
  {
   "cell_type": "code",
   "execution_count": 27,
   "id": "dd73f8bb",
   "metadata": {},
   "outputs": [
    {
     "data": {
      "text/plain": [
       "5783"
      ]
     },
     "execution_count": 27,
     "metadata": {},
     "output_type": "execute_result"
    }
   ],
   "source": [
    "#Limpio los valores que contienen espacios al ppio o al final y cruzo los valores con el diccionario\n",
    "i = 0\n",
    "for ele in sk.Country:\n",
    "    sk.Country.iloc[i] = sk.Country.iloc[i].strip()\n",
    "    if ele.lower() in dict_paises.keys():\n",
    "        sk.Country.iloc[i] = dict_paises[ele.lower()]\n",
    "    i += 1\n",
    "a2 = sk.shape[0]\n",
    "a2"
   ]
  },
  {
   "cell_type": "code",
   "execution_count": 28,
   "id": "3a3400e9",
   "metadata": {},
   "outputs": [],
   "source": [
    "#Me quedo solo con los registros que he podido relacionar con el diccionario\n",
    "sk = sk[sk.Country.isin(dict_paises.values())]"
   ]
  },
  {
   "cell_type": "code",
   "execution_count": 29,
   "id": "b86d29eb",
   "metadata": {},
   "outputs": [
    {
     "name": "stdout",
     "output_type": "stream",
     "text": [
      "197\n"
     ]
    },
    {
     "data": {
      "text/plain": [
       "(5586, 25)"
      ]
     },
     "execution_count": 29,
     "metadata": {},
     "output_type": "execute_result"
    }
   ],
   "source": [
    "#Pierdo 197 registros con la acción anterior\n",
    "a3=sk.shape[0]\n",
    "print(a2-a3)\n",
    "sk.shape\n"
   ]
  },
  {
   "cell_type": "code",
   "execution_count": 30,
   "id": "87c87117",
   "metadata": {},
   "outputs": [],
   "source": [
    "#Me quedo con los registros que tienen un Case_Number \"completo\"\n",
    "sk = sk[sk.Case_Number != \"nd\"]\n",
    "\n"
   ]
  },
  {
   "cell_type": "code",
   "execution_count": 31,
   "id": "a1ad189d",
   "metadata": {},
   "outputs": [
    {
     "name": "stdout",
     "output_type": "stream",
     "text": [
      "14\n"
     ]
    }
   ],
   "source": [
    "#Pierdo 14 registros con la acción anterior\n",
    "a4=sk.shape[0]\n",
    "print(a3-a4)"
   ]
  },
  {
   "cell_type": "markdown",
   "id": "dffe55b5",
   "metadata": {},
   "source": [
    "# Cambio Data Type columna Year"
   ]
  },
  {
   "cell_type": "code",
   "execution_count": 32,
   "id": "e9d76a95",
   "metadata": {},
   "outputs": [],
   "source": [
    "#Cambio el Data Type de la columna \"Year\" a integer\n",
    "sk.Year = sk.Year.astype(dtype =\"int16\")"
   ]
  },
  {
   "cell_type": "markdown",
   "id": "c464e2c5",
   "metadata": {},
   "source": [
    "# Limpieza columna Sex\n"
   ]
  },
  {
   "cell_type": "code",
   "execution_count": 33,
   "id": "7f3e4645",
   "metadata": {},
   "outputs": [],
   "source": [
    "#Arreglo manualmente la columna Sex, ya que tiene solo unas pocas columnas incorrectas\n",
    "sk.Sex.loc[1624] = \"M\"\n",
    "sk.Sex.loc[563] = \"M\"\n",
    "sk.Sex.loc[1587] = \"M\"\n",
    "sk.Sex.loc[4938] = \"unknown\"\n",
    "sk.Sex.loc[5437] = \"unknown\""
   ]
  },
  {
   "cell_type": "code",
   "execution_count": 34,
   "id": "972f2755",
   "metadata": {},
   "outputs": [
    {
     "data": {
      "text/plain": [
       "M          4508\n",
       "F           582\n",
       "unknown     482\n",
       "Name: Sex, dtype: int64"
      ]
     },
     "execution_count": 34,
     "metadata": {},
     "output_type": "execute_result"
    }
   ],
   "source": [
    "sk.Sex.value_counts()"
   ]
  },
  {
   "cell_type": "markdown",
   "id": "6f69ff43",
   "metadata": {},
   "source": [
    "# Limpieza columna Activity"
   ]
  },
  {
   "cell_type": "code",
   "execution_count": 35,
   "id": "0dbac44d",
   "metadata": {},
   "outputs": [],
   "source": [
    "#fix_activity --> Función que trata de homogeneizar y reducir el número de categorías buscando palabras \"clave\" que puedan\n",
    "# referir a una misma categoría\n",
    "def fix_activity(x):\n",
    "    if \"surf\" in x.lower():\n",
    "        return \"surfing\"\n",
    "    elif \"paddl\" in x.lower():\n",
    "        return \"surfing\"\n",
    "    elif \"board\" in x.lower():\n",
    "        return \"surfing\"\n",
    "    elif \"swim\"  in x.lower():\n",
    "        return \"swimming\"\n",
    "    elif \"tread\"  in x.lower():\n",
    "        return \"swimming\"\n",
    "    elif \"wat\"  in x.lower():\n",
    "        return \"swimming\"\n",
    "    elif \"bath\"  in x.lower():\n",
    "        return \"swimming\"\n",
    "    elif \"float\"  in x.lower():\n",
    "        return \"swimming\"\n",
    "    elif \"div\" in x.lower():\n",
    "        return \"diving\"\n",
    "    elif \"snork\" in x.lower():\n",
    "        return \"diving\"\n",
    "    elif \"kayak\"  in x.lower():\n",
    "        return \"kayaking\"\n",
    "    elif \"row\"  in x.lower():\n",
    "        return \"kayaking\"\n",
    "    elif \"canoe\"  in x.lower():\n",
    "        return \"kayaking\"\n",
    "    elif \"fish\" in x.lower():\n",
    "        return \"fishing\"\n",
    "    elif \"wading\" in x.lower():\n",
    "        return \"fishing\"\n",
    "    elif \"net\" in x.lower():\n",
    "        return \"fishing\"\n",
    "    elif \"boat\" in x.lower():\n",
    "        return \"boat\"\n",
    "    elif \"ship\" in x.lower():\n",
    "        return \"boat\"\n",
    "    elif \"sta\" in x.lower():\n",
    "        return \"standing\"\n",
    "    elif \"shark\" in x.lower():\n",
    "        return \"messing with sharks\"\n",
    "    elif sk.Activity.value_counts()[x] < 2:\n",
    "        return \"others\"\n",
    "    else:\n",
    "        return x.lower()\n"
   ]
  },
  {
   "cell_type": "code",
   "execution_count": 36,
   "id": "33726d98",
   "metadata": {},
   "outputs": [
    {
     "data": {
      "text/plain": [
       "37"
      ]
     },
     "execution_count": 36,
     "metadata": {},
     "output_type": "execute_result"
    }
   ],
   "source": [
    "sk.Activity = sk.Activity.apply(fix_activity)\n",
    "#sk.Activity.value_counts()\n",
    "len(sk.Activity.value_counts())"
   ]
  },
  {
   "cell_type": "markdown",
   "id": "17baea80",
   "metadata": {},
   "source": [
    "# Limpieza columna Age"
   ]
  },
  {
   "cell_type": "code",
   "execution_count": 37,
   "id": "b96c37b4",
   "metadata": {},
   "outputs": [
    {
     "data": {
      "text/plain": [
       "unknown    2342\n",
       "17          150\n",
       "18          145\n",
       "19          138\n",
       "20          133\n",
       "           ... \n",
       "87            1\n",
       "84            1\n",
       "82            1\n",
       "72            1\n",
       "2             1\n",
       "Name: Age, Length: 82, dtype: int64"
      ]
     },
     "execution_count": 37,
     "metadata": {},
     "output_type": "execute_result"
    }
   ],
   "source": [
    "# fix_age --> Función que trata de fijar las edades, suprimiendo carácteres especiales, asociando generaciónes a una edad específica\n",
    "# (20s -> 20), palabras (teen -> 18), varias edades (30 & 25 -> 30) etc..\n",
    "def fix_age(x):\n",
    "    x = x.strip()\n",
    "    if x.isnumeric():\n",
    "        if x.endswith(\"s\"):\n",
    "            return x[:-1]\n",
    "        elif x.endswith(\"½\"):\n",
    "            return x[:1]\n",
    "        elif \"teen\" in x.lower():\n",
    "            return \"18\"\n",
    "        elif \"unknown\" in x.lower():\n",
    "            return x\n",
    "        elif \"month\" in x.lower():\n",
    "            return \"1\"\n",
    "        elif \"?\" in x:\n",
    "            return \"unknown\"\n",
    "        elif \"\" == x:\n",
    "            return \"unknown\"\n",
    "        else:\n",
    "            return x[:2]\n",
    "    else:\n",
    "        return \"unknown\"\n",
    "\n",
    "sk.Age = sk.Age.apply(fix_age)\n",
    "sk.Age.value_counts()"
   ]
  },
  {
   "cell_type": "markdown",
   "id": "d9b27193",
   "metadata": {},
   "source": [
    "# Limpieza columna Fatal"
   ]
  },
  {
   "cell_type": "code",
   "execution_count": 38,
   "id": "44a39d5f",
   "metadata": {},
   "outputs": [
    {
     "data": {
      "text/plain": [
       "N          3928\n",
       "Y          1160\n",
       "UNKNOWN     484\n",
       "Name: Fatal, dtype: int64"
      ]
     },
     "execution_count": 38,
     "metadata": {},
     "output_type": "execute_result"
    }
   ],
   "source": [
    "#fix_fatal --> Función que busca los patrones \"N\", \"Y\", \"UNKNOWN\" en el string de la casilla y devuelve la categoría a la \n",
    "# que corresponde\n",
    "sk.Fatal = sk.Fatal.apply(fix_fatal)\n",
    "sk.Fatal.value_counts()"
   ]
  },
  {
   "cell_type": "markdown",
   "id": "ed430a82",
   "metadata": {},
   "source": [
    "# Limpieza columna Time"
   ]
  },
  {
   "cell_type": "code",
   "execution_count": 39,
   "id": "de465846",
   "metadata": {},
   "outputs": [
    {
     "data": {
      "text/plain": [
       "unknown      2732\n",
       "afternoon    1617\n",
       "morning      1117\n",
       "night         106\n",
       "Name: Time, dtype: int64"
      ]
     },
     "execution_count": 39,
     "metadata": {},
     "output_type": "execute_result"
    }
   ],
   "source": [
    "#fix_time --> Función que busca palabras clave que referencian a un momento concreto del día o patrones de dos dígitos\n",
    "# (06 , 12 , 22) y los asocia a tres categorías: morning(06-12), afternoon(12-24) y night(00-06)\n",
    "sk.Time = sk.Time.apply(fix_time)\n",
    "sk.Time.value_counts()\n",
    "#len(sk.Time.value_counts())"
   ]
  },
  {
   "cell_type": "markdown",
   "id": "cd6765f5",
   "metadata": {},
   "source": [
    "# Limpieza columna Species"
   ]
  },
  {
   "cell_type": "code",
   "execution_count": 40,
   "id": "a1af241b",
   "metadata": {},
   "outputs": [
    {
     "data": {
      "text/plain": [
       "unknown                                                                         2363\n",
       "White shark                                                                      625\n",
       "Shark involvement not confirmed                                                  334\n",
       "Tiger shark                                                                      261\n",
       "4' shark                                                                         204\n",
       "                                                                                ... \n",
       "Said to involve a 1.5 m shark                                                      1\n",
       "Raggedtooth shark, 2.5m                                                            1\n",
       "Unknown, but it was reported that a shark tooth was recovered from the wound       1\n",
       "18\" to 36\" shark                                                                   1\n",
       "Thought to involve a porbeagle or mako shark                                       1\n",
       "Name: Species, Length: 342, dtype: int64"
      ]
     },
     "execution_count": 40,
     "metadata": {},
     "output_type": "execute_result"
    }
   ],
   "source": [
    "#fix_spec -->  Función que busca palabras clave que referencian a una especie en concreto(bull -> Bull shark) o patrones de \n",
    "# dimension para tratar de reducir el número de categorías\n",
    "\n",
    "#Se consigue al menos tener una muestra aceptable de 7 de las principales especies involucradas en ataques\n",
    "\n",
    "sk.Species = sk.Species.apply(fix_spec)\n",
    "sk.Species.value_counts()\n",
    "#len(sk.Species.value_counts())"
   ]
  },
  {
   "cell_type": "markdown",
   "id": "d3985942",
   "metadata": {},
   "source": [
    "# ANÁLISIS DE RESULTADOS CON EL DATAFRAME \"LÍMPIO\""
   ]
  },
  {
   "cell_type": "markdown",
   "id": "98251be0",
   "metadata": {},
   "source": [
    "# ESTUDIO DE CASOS POR MES EN PAISES CON MÁS DE 30 REGISTROS"
   ]
  },
  {
   "cell_type": "code",
   "execution_count": 41,
   "id": "80b1d7e5",
   "metadata": {
    "scrolled": false
   },
   "outputs": [],
   "source": [
    "#Cuento los registros por país con un diccionario y creo una columna con el dato de ese recuento para el país de cada registro\n",
    "\n",
    "#sk.head()\n",
    "country_count ={}\n",
    "for el in sk.Country:\n",
    "    if el not in country_count.keys():\n",
    "        country_count[el] = 1\n",
    "    else:\n",
    "        country_count[el] += 1\n",
    "#country_count\n",
    "sk.rename(columns ={\"Unnamed_22\" :\"Country_count\"}, inplace = True)\n",
    "\n",
    "i = 0\n",
    "for ele in sk.Country_count:    \n",
    "    sk.Country_count.iloc[i] = country_count[sk.Country.iloc[i]]\n",
    "    i += 1\n",
    "    \n",
    "\n"
   ]
  },
  {
   "cell_type": "code",
   "execution_count": 42,
   "id": "cd8562f6",
   "metadata": {},
   "outputs": [],
   "source": [
    "#Cambio el tipo de la columna creada a int64\n",
    "sk.Country_count = sk.Country_count.astype(dtype=\"int64\")\n",
    "#Creo un subset solo con los paises con más de 30 registros\n",
    "sk_countries = sk[(sk.Country_count) >= 30]\n",
    "#Hago un GROUPBY de ese subset que agrupe por País, despues desagrupe por mes y sume los casos\n",
    "sk_countries = sk_countries.groupby([\"Country\",\"Month\"]).agg({\"Case_Number\":\"count\"})\n",
    "#Reseteo el índice\n",
    "sk_countries.reset_index(inplace = True)"
   ]
  },
  {
   "cell_type": "code",
   "execution_count": 43,
   "id": "2a298008",
   "metadata": {},
   "outputs": [
    {
     "data": {
      "text/html": [
       "<div>\n",
       "<style scoped>\n",
       "    .dataframe tbody tr th:only-of-type {\n",
       "        vertical-align: middle;\n",
       "    }\n",
       "\n",
       "    .dataframe tbody tr th {\n",
       "        vertical-align: top;\n",
       "    }\n",
       "\n",
       "    .dataframe thead th {\n",
       "        text-align: right;\n",
       "    }\n",
       "</style>\n",
       "<table border=\"1\" class=\"dataframe\">\n",
       "  <thead>\n",
       "    <tr style=\"text-align: right;\">\n",
       "      <th></th>\n",
       "      <th></th>\n",
       "      <th>Case_Number</th>\n",
       "    </tr>\n",
       "    <tr>\n",
       "      <th>Country</th>\n",
       "      <th>Month</th>\n",
       "      <th></th>\n",
       "    </tr>\n",
       "  </thead>\n",
       "  <tbody>\n",
       "    <tr>\n",
       "      <th rowspan=\"5\" valign=\"top\">AUS</th>\n",
       "      <th>Jan</th>\n",
       "      <td>209</td>\n",
       "    </tr>\n",
       "    <tr>\n",
       "      <th>Feb</th>\n",
       "      <td>150</td>\n",
       "    </tr>\n",
       "    <tr>\n",
       "      <th>Mar</th>\n",
       "      <td>125</td>\n",
       "    </tr>\n",
       "    <tr>\n",
       "      <th>Apr</th>\n",
       "      <td>110</td>\n",
       "    </tr>\n",
       "    <tr>\n",
       "      <th>May</th>\n",
       "      <td>58</td>\n",
       "    </tr>\n",
       "    <tr>\n",
       "      <th>...</th>\n",
       "      <th>...</th>\n",
       "      <td>...</td>\n",
       "    </tr>\n",
       "    <tr>\n",
       "      <th rowspan=\"5\" valign=\"top\">ZAF</th>\n",
       "      <th>Aug</th>\n",
       "      <td>25</td>\n",
       "    </tr>\n",
       "    <tr>\n",
       "      <th>Sep</th>\n",
       "      <td>22</td>\n",
       "    </tr>\n",
       "    <tr>\n",
       "      <th>Oct</th>\n",
       "      <td>30</td>\n",
       "    </tr>\n",
       "    <tr>\n",
       "      <th>Nov</th>\n",
       "      <td>35</td>\n",
       "    </tr>\n",
       "    <tr>\n",
       "      <th>Dec</th>\n",
       "      <td>67</td>\n",
       "    </tr>\n",
       "  </tbody>\n",
       "</table>\n",
       "<p>252 rows × 1 columns</p>\n",
       "</div>"
      ],
      "text/plain": [
       "               Case_Number\n",
       "Country Month             \n",
       "AUS     Jan            209\n",
       "        Feb            150\n",
       "        Mar            125\n",
       "        Apr            110\n",
       "        May             58\n",
       "...                    ...\n",
       "ZAF     Aug             25\n",
       "        Sep             22\n",
       "        Oct             30\n",
       "        Nov             35\n",
       "        Dec             67\n",
       "\n",
       "[252 rows x 1 columns]"
      ]
     },
     "execution_count": 43,
     "metadata": {},
     "output_type": "execute_result"
    }
   ],
   "source": [
    "#Añado los meses(con count = 0) a los paises que tienen meses sin registros\n",
    "arr1 = sk_countries.Country.unique()\n",
    "arr2 = [\"Jan\",\"Feb\",\"Mar\",\"Apr\",\"May\",\"Jun\",\"Jul\",\"Aug\",\"Sep\",\"Oct\",\"Nov\",\"Dec\"]\n",
    "new_vals = []\n",
    "for i in arr1:\n",
    "    for j in arr2:\n",
    "        new_vals.append((i,j,0))\n",
    "df2 = pd.DataFrame(new_vals,\n",
    "                     columns=['Country', 'Month', 'Case_Number'])\n",
    "sk_countries = pd.concat([sk_countries,df2])\n",
    "#Ordeno por meses de Enero a Diciembre\n",
    "sk_countries = sk_countries.groupby([\"Country\",\"Month\"]) .agg({\"Case_Number\":sum}).reindex(arr2, level=1)\n",
    "sk_countries"
   ]
  },
  {
   "cell_type": "code",
   "execution_count": 44,
   "id": "dd32e7cd",
   "metadata": {},
   "outputs": [
    {
     "data": {
      "text/plain": [
       "(252, 1)"
      ]
     },
     "execution_count": 44,
     "metadata": {},
     "output_type": "execute_result"
    }
   ],
   "source": [
    "sk_countries.shape"
   ]
  },
  {
   "cell_type": "markdown",
   "id": "d6e5850c",
   "metadata": {},
   "source": [
    "# Represento los ataques por meses para los paises con más registros (AUSTRALIA, NUEVA ZELANDA, USA, SUDÁFRICA) y ademas para ESPAÑA\n"
   ]
  },
  {
   "cell_type": "code",
   "execution_count": 45,
   "id": "725f1a25",
   "metadata": {},
   "outputs": [
    {
     "data": {
      "image/png": "[encoded data removed]",
      "text/plain": [
       "<Figure size 640x480 with 1 Axes>"
      ]
     },
     "metadata": {},
     "output_type": "display_data"
    }
   ],
   "source": [
    "#plt.figure(figsize=(10, 6))\n",
    "plt.ylabel('Cases')\n",
    "plt.title(\"Australia\")\n",
    "sk_countries.loc[\"AUS\"].Case_Number.plot.bar();"
   ]
  },
  {
   "cell_type": "code",
   "execution_count": 46,
   "id": "68ca689e",
   "metadata": {},
   "outputs": [
    {
     "data": {
      "image/png": "[encoded data removed]",
      "text/plain": [
       "<Figure size 640x480 with 1 Axes>"
      ]
     },
     "metadata": {},
     "output_type": "display_data"
    }
   ],
   "source": [
    "plt.title(\"USA\")\n",
    "sk_countries.loc[\"USA\"].Case_Number.plot.bar();"
   ]
  },
  {
   "cell_type": "code",
   "execution_count": 47,
   "id": "a0add87d",
   "metadata": {},
   "outputs": [
    {
     "data": {
      "image/png": "[encoded data removed]",
      "text/plain": [
       "<Figure size 640x480 with 1 Axes>"
      ]
     },
     "metadata": {},
     "output_type": "display_data"
    }
   ],
   "source": [
    "plt.title(\"España\")\n",
    "sk_countries.loc[\"ESP\"].Case_Number.plot.bar();"
   ]
  },
  {
   "cell_type": "code",
   "execution_count": 48,
   "id": "08353604",
   "metadata": {},
   "outputs": [
    {
     "data": {
      "image/png": "[encoded data removed]",
      "text/plain": [
       "<Figure size 640x480 with 1 Axes>"
      ]
     },
     "metadata": {},
     "output_type": "display_data"
    }
   ],
   "source": [
    "plt.title(\"Sudáfrica\")\n",
    "sk_countries.loc[\"ZAF\"].Case_Number.plot.bar();"
   ]
  },
  {
   "cell_type": "code",
   "execution_count": 49,
   "id": "ebdfd7da",
   "metadata": {},
   "outputs": [
    {
     "data": {
      "image/png": "[encoded data removed]",
      "text/plain": [
       "<Figure size 640x480 with 1 Axes>"
      ]
     },
     "metadata": {},
     "output_type": "display_data"
    }
   ],
   "source": [
    "plt.title(\"Nueva Zelanda\")\n",
    "sk_countries.loc[\"NZL\"].Case_Number.plot.bar();"
   ]
  },
  {
   "cell_type": "code",
   "execution_count": 50,
   "id": "5bee4497",
   "metadata": {},
   "outputs": [
    {
     "data": {
      "image/png": "[encoded data removed]",
      "text/plain": [
       "<Figure size 640x480 with 1 Axes>"
      ]
     },
     "metadata": {},
     "output_type": "display_data"
    }
   ],
   "source": [
    "plt.title(\"Brasil\")\n",
    "sk_countries.loc[\"BRA\"].Case_Number.plot.bar();"
   ]
  },
  {
   "cell_type": "markdown",
   "id": "b9515fd5",
   "metadata": {},
   "source": [
    "# PORCENTAJES DE ATAQUES POR SEXO EN PAISES CON MÁS DE 100 ATAQUES REGISTRADOS"
   ]
  },
  {
   "cell_type": "code",
   "execution_count": 51,
   "id": "d77774ed",
   "metadata": {},
   "outputs": [
    {
     "data": {
      "text/html": [
       "<div>\n",
       "<style scoped>\n",
       "    .dataframe tbody tr th:only-of-type {\n",
       "        vertical-align: middle;\n",
       "    }\n",
       "\n",
       "    .dataframe tbody tr th {\n",
       "        vertical-align: top;\n",
       "    }\n",
       "\n",
       "    .dataframe thead th {\n",
       "        text-align: right;\n",
       "    }\n",
       "</style>\n",
       "<table border=\"1\" class=\"dataframe\">\n",
       "  <thead>\n",
       "    <tr style=\"text-align: right;\">\n",
       "      <th></th>\n",
       "      <th></th>\n",
       "      <th>Case_Number</th>\n",
       "      <th>Percentage</th>\n",
       "    </tr>\n",
       "    <tr>\n",
       "      <th>Country</th>\n",
       "      <th>Sex</th>\n",
       "      <th></th>\n",
       "      <th></th>\n",
       "    </tr>\n",
       "  </thead>\n",
       "  <tbody>\n",
       "    <tr>\n",
       "      <th rowspan=\"2\" valign=\"top\">AUS</th>\n",
       "      <th>F</th>\n",
       "      <td>86</td>\n",
       "      <td>7.563764</td>\n",
       "    </tr>\n",
       "    <tr>\n",
       "      <th>M</th>\n",
       "      <td>1051</td>\n",
       "      <td>92.436236</td>\n",
       "    </tr>\n",
       "    <tr>\n",
       "      <th rowspan=\"2\" valign=\"top\">BHS</th>\n",
       "      <th>F</th>\n",
       "      <td>15</td>\n",
       "      <td>14.563107</td>\n",
       "    </tr>\n",
       "    <tr>\n",
       "      <th>M</th>\n",
       "      <td>88</td>\n",
       "      <td>85.436893</td>\n",
       "    </tr>\n",
       "    <tr>\n",
       "      <th rowspan=\"2\" valign=\"top\">BRA</th>\n",
       "      <th>F</th>\n",
       "      <td>4</td>\n",
       "      <td>4.123711</td>\n",
       "    </tr>\n",
       "    <tr>\n",
       "      <th>M</th>\n",
       "      <td>93</td>\n",
       "      <td>95.876289</td>\n",
       "    </tr>\n",
       "    <tr>\n",
       "      <th rowspan=\"2\" valign=\"top\">NZL</th>\n",
       "      <th>F</th>\n",
       "      <td>12</td>\n",
       "      <td>11.428571</td>\n",
       "    </tr>\n",
       "    <tr>\n",
       "      <th>M</th>\n",
       "      <td>93</td>\n",
       "      <td>88.571429</td>\n",
       "    </tr>\n",
       "    <tr>\n",
       "      <th rowspan=\"2\" valign=\"top\">USA</th>\n",
       "      <th>F</th>\n",
       "      <td>328</td>\n",
       "      <td>16.078431</td>\n",
       "    </tr>\n",
       "    <tr>\n",
       "      <th>M</th>\n",
       "      <td>1712</td>\n",
       "      <td>83.921569</td>\n",
       "    </tr>\n",
       "    <tr>\n",
       "      <th rowspan=\"2\" valign=\"top\">ZAF</th>\n",
       "      <th>F</th>\n",
       "      <td>21</td>\n",
       "      <td>4.312115</td>\n",
       "    </tr>\n",
       "    <tr>\n",
       "      <th>M</th>\n",
       "      <td>466</td>\n",
       "      <td>95.687885</td>\n",
       "    </tr>\n",
       "  </tbody>\n",
       "</table>\n",
       "</div>"
      ],
      "text/plain": [
       "             Case_Number  Percentage\n",
       "Country Sex                         \n",
       "AUS     F             86    7.563764\n",
       "        M           1051   92.436236\n",
       "BHS     F             15   14.563107\n",
       "        M             88   85.436893\n",
       "BRA     F              4    4.123711\n",
       "        M             93   95.876289\n",
       "NZL     F             12   11.428571\n",
       "        M             93   88.571429\n",
       "USA     F            328   16.078431\n",
       "        M           1712   83.921569\n",
       "ZAF     F             21    4.312115\n",
       "        M            466   95.687885"
      ]
     },
     "execution_count": 51,
     "metadata": {},
     "output_type": "execute_result"
    }
   ],
   "source": [
    "#Creo un Subset con paises con más de 100 registros y donde el sexo de la víctima es conocido\n",
    "\n",
    "sk_countries2 = sk[(sk.Country_count >= 100) & (sk[\"Sex\"] != \"unknown\")]\n",
    "\n",
    "#Agrupo por país, desagrupo por sexo y cuento los casos\n",
    "sk_countries2 = sk_countries2.groupby([\"Country\",\"Sex\"]).agg({\"Case_Number\": \"count\"})\n",
    "\n",
    "#Añado una columna con el Porcentaje de ataques por sexo\n",
    "sk_countries2[\"Percentage\"] = 0\n",
    "for ele in sk_countries2.Percentage:\n",
    "    for i in range(12):\n",
    "        if i%2 == 0:\n",
    "            a = (sk_countries2.iloc[(i,0)])\n",
    "            b = (sk_countries2.iloc[(i,0)])+(sk_countries2.iloc[(i+1,0)])\n",
    "            sk_countries2.iloc[(i,1)] = (a/b)*100\n",
    "        else:            \n",
    "            a = (sk_countries2.iloc[(i,0)])\n",
    "            b = (sk_countries2.iloc[(i,0)])+(sk_countries2.iloc[(i-1,0)])\n",
    "            sk_countries2.iloc[(i,1)] = (a/b)*100\n",
    "            \n",
    "sk_countries2           \n"
   ]
  },
  {
   "cell_type": "markdown",
   "id": "8a8c3bab",
   "metadata": {},
   "source": [
    "# PAISES CON LA MEDIA DE EDAD DE LAS VICTIMAS MÁS ALTA Y MÁS BAJA (PARA PAISES CON MÁS DE 40 REGISTROS)\n",
    "\n",
    "##   - REINO UNIDO LA MÁXIMA CON 36.54 AÑOS\n",
    "##   - PAPUA NUEVA GUINEA LA MÍNIMA CON 21.18 AÑOS"
   ]
  },
  {
   "cell_type": "code",
   "execution_count": 52,
   "id": "d8edc310",
   "metadata": {},
   "outputs": [
    {
     "name": "stdout",
     "output_type": "stream",
     "text": [
      "               Age\n",
      "Country           \n",
      "GBR      36.538462\n",
      "               Age\n",
      "Country           \n",
      "PNG      21.184211\n"
     ]
    }
   ],
   "source": [
    "#Creo un Subset con paises con más de 100 registros y donde el sexo de la víctima es conocido\n",
    "#sk.Age.value_counts()\n",
    "sk_countries3 = sk[(sk.Country_count >= 40) & (sk[\"Age\"] != \"unknown\")]\n",
    "\n",
    "#Cambio el tipo del dato Age a int64\n",
    "sk_countries3.Age = sk_countries3.Age.astype(dtype = \"int64\")\n",
    "\n",
    "#Agrupo por país y calculo la media de edad de las víctimas\n",
    "sk_countries3 = sk_countries3.groupby([\"Country\"]).agg({\"Age\": \"mean\"})\n",
    "#sk_countries3\n",
    "\n",
    "#Busco los paises con la media de edad más alta y más baja respectivamente\n",
    "print(sk_countries3[sk_countries3.Age == sk_countries3.Age.max()])\n",
    "print(sk_countries3[sk_countries3.Age == sk_countries3.Age.min()])"
   ]
  },
  {
   "cell_type": "markdown",
   "id": "c89f44ec",
   "metadata": {},
   "source": [
    "# BUSQUEDA DE CORRELACIONES ENTRE SEXO Y ACTIVIDAD DURANTE EL ATAQUE\n",
    "##   - HOMBRES - SURFING\n",
    "##   - MUJERES - SWIMMING"
   ]
  },
  {
   "cell_type": "code",
   "execution_count": 53,
   "id": "e62b3c88",
   "metadata": {},
   "outputs": [],
   "source": [
    "#Creo una lista con las principales categorías de actividades durante los ataques\n",
    "x = [\"surfing\", \"swimming\",\"fishing\",\"diving\",\"standing\",\"kayaking\",\"boat\",\"messing with sharks\"]\n",
    "\n",
    "#Creo un Subset con las columnas \"Activity\" y \"Sex\" cuando la actividad está en la lista creada y el sexo de la victima es conocido\n",
    "sk_activity = sk[[\"Activity\", \"Sex\"]]\n",
    "sk_activity = sk_activity[(sk_activity[\"Activity\"].isin(x)) & (sk_activity[\"Sex\"] != \"unknown\")]\n",
    "#sk_activity"
   ]
  },
  {
   "cell_type": "code",
   "execution_count": 54,
   "id": "f0bf4463",
   "metadata": {},
   "outputs": [
    {
     "data": {
      "text/html": [
       "<div>\n",
       "<style scoped>\n",
       "    .dataframe tbody tr th:only-of-type {\n",
       "        vertical-align: middle;\n",
       "    }\n",
       "\n",
       "    .dataframe tbody tr th {\n",
       "        vertical-align: top;\n",
       "    }\n",
       "\n",
       "    .dataframe thead th {\n",
       "        text-align: right;\n",
       "    }\n",
       "</style>\n",
       "<table border=\"1\" class=\"dataframe\">\n",
       "  <thead>\n",
       "    <tr style=\"text-align: right;\">\n",
       "      <th></th>\n",
       "      <th>Sex_F</th>\n",
       "      <th>Sex_M</th>\n",
       "      <th>Activity_boat</th>\n",
       "      <th>Activity_diving</th>\n",
       "      <th>Activity_fishing</th>\n",
       "      <th>Activity_kayaking</th>\n",
       "      <th>Activity_messing with sharks</th>\n",
       "      <th>Activity_standing</th>\n",
       "      <th>Activity_surfing</th>\n",
       "      <th>Activity_swimming</th>\n",
       "    </tr>\n",
       "  </thead>\n",
       "  <tbody>\n",
       "    <tr>\n",
       "      <th>Sex_F</th>\n",
       "      <td>1.000000</td>\n",
       "      <td>-1.000000</td>\n",
       "      <td>-0.000241</td>\n",
       "      <td>0.003810</td>\n",
       "      <td>-0.056456</td>\n",
       "      <td>0.005792</td>\n",
       "      <td>0.022127</td>\n",
       "      <td>0.083572</td>\n",
       "      <td>-0.074086</td>\n",
       "      <td>0.088942</td>\n",
       "    </tr>\n",
       "    <tr>\n",
       "      <th>Sex_M</th>\n",
       "      <td>-1.000000</td>\n",
       "      <td>1.000000</td>\n",
       "      <td>0.000241</td>\n",
       "      <td>-0.003810</td>\n",
       "      <td>0.056456</td>\n",
       "      <td>-0.005792</td>\n",
       "      <td>-0.022127</td>\n",
       "      <td>-0.083572</td>\n",
       "      <td>0.074086</td>\n",
       "      <td>-0.088942</td>\n",
       "    </tr>\n",
       "    <tr>\n",
       "      <th>Activity_boat</th>\n",
       "      <td>-0.000241</td>\n",
       "      <td>0.000241</td>\n",
       "      <td>1.000000</td>\n",
       "      <td>-0.045320</td>\n",
       "      <td>-0.063951</td>\n",
       "      <td>-0.017559</td>\n",
       "      <td>-0.015834</td>\n",
       "      <td>-0.019329</td>\n",
       "      <td>-0.086643</td>\n",
       "      <td>-0.079437</td>\n",
       "    </tr>\n",
       "    <tr>\n",
       "      <th>Activity_diving</th>\n",
       "      <td>0.003810</td>\n",
       "      <td>-0.003810</td>\n",
       "      <td>-0.045320</td>\n",
       "      <td>1.000000</td>\n",
       "      <td>-0.183038</td>\n",
       "      <td>-0.050257</td>\n",
       "      <td>-0.045320</td>\n",
       "      <td>-0.055323</td>\n",
       "      <td>-0.247988</td>\n",
       "      <td>-0.227363</td>\n",
       "    </tr>\n",
       "    <tr>\n",
       "      <th>Activity_fishing</th>\n",
       "      <td>-0.056456</td>\n",
       "      <td>0.056456</td>\n",
       "      <td>-0.063951</td>\n",
       "      <td>-0.183038</td>\n",
       "      <td>1.000000</td>\n",
       "      <td>-0.070918</td>\n",
       "      <td>-0.063951</td>\n",
       "      <td>-0.078067</td>\n",
       "      <td>-0.349938</td>\n",
       "      <td>-0.320834</td>\n",
       "    </tr>\n",
       "    <tr>\n",
       "      <th>Activity_kayaking</th>\n",
       "      <td>0.005792</td>\n",
       "      <td>-0.005792</td>\n",
       "      <td>-0.017559</td>\n",
       "      <td>-0.050257</td>\n",
       "      <td>-0.070918</td>\n",
       "      <td>1.000000</td>\n",
       "      <td>-0.017559</td>\n",
       "      <td>-0.021435</td>\n",
       "      <td>-0.096082</td>\n",
       "      <td>-0.088091</td>\n",
       "    </tr>\n",
       "    <tr>\n",
       "      <th>Activity_messing with sharks</th>\n",
       "      <td>0.022127</td>\n",
       "      <td>-0.022127</td>\n",
       "      <td>-0.015834</td>\n",
       "      <td>-0.045320</td>\n",
       "      <td>-0.063951</td>\n",
       "      <td>-0.017559</td>\n",
       "      <td>1.000000</td>\n",
       "      <td>-0.019329</td>\n",
       "      <td>-0.086643</td>\n",
       "      <td>-0.079437</td>\n",
       "    </tr>\n",
       "    <tr>\n",
       "      <th>Activity_standing</th>\n",
       "      <td>0.083572</td>\n",
       "      <td>-0.083572</td>\n",
       "      <td>-0.019329</td>\n",
       "      <td>-0.055323</td>\n",
       "      <td>-0.078067</td>\n",
       "      <td>-0.021435</td>\n",
       "      <td>-0.019329</td>\n",
       "      <td>1.000000</td>\n",
       "      <td>-0.105768</td>\n",
       "      <td>-0.096971</td>\n",
       "    </tr>\n",
       "    <tr>\n",
       "      <th>Activity_surfing</th>\n",
       "      <td>-0.074086</td>\n",
       "      <td>0.074086</td>\n",
       "      <td>-0.086643</td>\n",
       "      <td>-0.247988</td>\n",
       "      <td>-0.349938</td>\n",
       "      <td>-0.096082</td>\n",
       "      <td>-0.086643</td>\n",
       "      <td>-0.105768</td>\n",
       "      <td>1.000000</td>\n",
       "      <td>-0.434678</td>\n",
       "    </tr>\n",
       "    <tr>\n",
       "      <th>Activity_swimming</th>\n",
       "      <td>0.088942</td>\n",
       "      <td>-0.088942</td>\n",
       "      <td>-0.079437</td>\n",
       "      <td>-0.227363</td>\n",
       "      <td>-0.320834</td>\n",
       "      <td>-0.088091</td>\n",
       "      <td>-0.079437</td>\n",
       "      <td>-0.096971</td>\n",
       "      <td>-0.434678</td>\n",
       "      <td>1.000000</td>\n",
       "    </tr>\n",
       "  </tbody>\n",
       "</table>\n",
       "</div>"
      ],
      "text/plain": [
       "                                 Sex_F     Sex_M  Activity_boat  \\\n",
       "Sex_F                         1.000000 -1.000000      -0.000241   \n",
       "Sex_M                        -1.000000  1.000000       0.000241   \n",
       "Activity_boat                -0.000241  0.000241       1.000000   \n",
       "Activity_diving               0.003810 -0.003810      -0.045320   \n",
       "Activity_fishing             -0.056456  0.056456      -0.063951   \n",
       "Activity_kayaking             0.005792 -0.005792      -0.017559   \n",
       "Activity_messing with sharks  0.022127 -0.022127      -0.015834   \n",
       "Activity_standing             0.083572 -0.083572      -0.019329   \n",
       "Activity_surfing             -0.074086  0.074086      -0.086643   \n",
       "Activity_swimming             0.088942 -0.088942      -0.079437   \n",
       "\n",
       "                              Activity_diving  Activity_fishing  \\\n",
       "Sex_F                                0.003810         -0.056456   \n",
       "Sex_M                               -0.003810          0.056456   \n",
       "Activity_boat                       -0.045320         -0.063951   \n",
       "Activity_diving                      1.000000         -0.183038   \n",
       "Activity_fishing                    -0.183038          1.000000   \n",
       "Activity_kayaking                   -0.050257         -0.070918   \n",
       "Activity_messing with sharks        -0.045320         -0.063951   \n",
       "Activity_standing                   -0.055323         -0.078067   \n",
       "Activity_surfing                    -0.247988         -0.349938   \n",
       "Activity_swimming                   -0.227363         -0.320834   \n",
       "\n",
       "                              Activity_kayaking  Activity_messing with sharks  \\\n",
       "Sex_F                                  0.005792                      0.022127   \n",
       "Sex_M                                 -0.005792                     -0.022127   \n",
       "Activity_boat                         -0.017559                     -0.015834   \n",
       "Activity_diving                       -0.050257                     -0.045320   \n",
       "Activity_fishing                      -0.070918                     -0.063951   \n",
       "Activity_kayaking                      1.000000                     -0.017559   \n",
       "Activity_messing with sharks          -0.017559                      1.000000   \n",
       "Activity_standing                     -0.021435                     -0.019329   \n",
       "Activity_surfing                      -0.096082                     -0.086643   \n",
       "Activity_swimming                     -0.088091                     -0.079437   \n",
       "\n",
       "                              Activity_standing  Activity_surfing  \\\n",
       "Sex_F                                  0.083572         -0.074086   \n",
       "Sex_M                                 -0.083572          0.074086   \n",
       "Activity_boat                         -0.019329         -0.086643   \n",
       "Activity_diving                       -0.055323         -0.247988   \n",
       "Activity_fishing                      -0.078067         -0.349938   \n",
       "Activity_kayaking                     -0.021435         -0.096082   \n",
       "Activity_messing with sharks          -0.019329         -0.086643   \n",
       "Activity_standing                      1.000000         -0.105768   \n",
       "Activity_surfing                      -0.105768          1.000000   \n",
       "Activity_swimming                     -0.096971         -0.434678   \n",
       "\n",
       "                              Activity_swimming  \n",
       "Sex_F                                  0.088942  \n",
       "Sex_M                                 -0.088942  \n",
       "Activity_boat                         -0.079437  \n",
       "Activity_diving                       -0.227363  \n",
       "Activity_fishing                      -0.320834  \n",
       "Activity_kayaking                     -0.088091  \n",
       "Activity_messing with sharks          -0.079437  \n",
       "Activity_standing                     -0.096971  \n",
       "Activity_surfing                      -0.434678  \n",
       "Activity_swimming                      1.000000  "
      ]
     },
     "execution_count": 54,
     "metadata": {},
     "output_type": "execute_result"
    }
   ],
   "source": [
    "#Hago One-Hot Encoding con Get-Dummies y obtengo las matriz de correlaciones entre el sexo y la actividad\n",
    "sk_activity_enc = pd.get_dummies(sk_activity, columns =[\"Sex\", \"Activity\"])\n",
    "sk_activity_enc\n",
    "mc = sk_activity_enc.corr()\n",
    "#sk_activity.Activity.value_counts()\n",
    "mc"
   ]
  },
  {
   "cell_type": "markdown",
   "id": "f48432ed",
   "metadata": {},
   "source": [
    "# BUSQUEDA DE CORRELACIONES ENTRE SEXO Y MOMENTO DEL DÍA\n",
    "##   - HOMBRES - NOCHE (00-06 H)\n",
    "##   - MUJERES - TARDE (12-24 H)"
   ]
  },
  {
   "cell_type": "code",
   "execution_count": 55,
   "id": "482afd5d",
   "metadata": {},
   "outputs": [
    {
     "data": {
      "text/html": [
       "<div>\n",
       "<style scoped>\n",
       "    .dataframe tbody tr th:only-of-type {\n",
       "        vertical-align: middle;\n",
       "    }\n",
       "\n",
       "    .dataframe tbody tr th {\n",
       "        vertical-align: top;\n",
       "    }\n",
       "\n",
       "    .dataframe thead th {\n",
       "        text-align: right;\n",
       "    }\n",
       "</style>\n",
       "<table border=\"1\" class=\"dataframe\">\n",
       "  <thead>\n",
       "    <tr style=\"text-align: right;\">\n",
       "      <th></th>\n",
       "      <th>Sex_F</th>\n",
       "      <th>Sex_M</th>\n",
       "      <th>Time_afternoon</th>\n",
       "      <th>Time_morning</th>\n",
       "      <th>Time_night</th>\n",
       "    </tr>\n",
       "  </thead>\n",
       "  <tbody>\n",
       "    <tr>\n",
       "      <th>Sex_F</th>\n",
       "      <td>1.000000</td>\n",
       "      <td>-1.000000</td>\n",
       "      <td>0.046536</td>\n",
       "      <td>-0.026935</td>\n",
       "      <td>-0.057032</td>\n",
       "    </tr>\n",
       "    <tr>\n",
       "      <th>Sex_M</th>\n",
       "      <td>-1.000000</td>\n",
       "      <td>1.000000</td>\n",
       "      <td>-0.046536</td>\n",
       "      <td>0.026935</td>\n",
       "      <td>0.057032</td>\n",
       "    </tr>\n",
       "    <tr>\n",
       "      <th>Time_afternoon</th>\n",
       "      <td>0.046536</td>\n",
       "      <td>-0.046536</td>\n",
       "      <td>1.000000</td>\n",
       "      <td>-0.938526</td>\n",
       "      <td>-0.205841</td>\n",
       "    </tr>\n",
       "    <tr>\n",
       "      <th>Time_morning</th>\n",
       "      <td>-0.026935</td>\n",
       "      <td>0.026935</td>\n",
       "      <td>-0.938526</td>\n",
       "      <td>1.000000</td>\n",
       "      <td>-0.144630</td>\n",
       "    </tr>\n",
       "    <tr>\n",
       "      <th>Time_night</th>\n",
       "      <td>-0.057032</td>\n",
       "      <td>0.057032</td>\n",
       "      <td>-0.205841</td>\n",
       "      <td>-0.144630</td>\n",
       "      <td>1.000000</td>\n",
       "    </tr>\n",
       "  </tbody>\n",
       "</table>\n",
       "</div>"
      ],
      "text/plain": [
       "                   Sex_F     Sex_M  Time_afternoon  Time_morning  Time_night\n",
       "Sex_F           1.000000 -1.000000        0.046536     -0.026935   -0.057032\n",
       "Sex_M          -1.000000  1.000000       -0.046536      0.026935    0.057032\n",
       "Time_afternoon  0.046536 -0.046536        1.000000     -0.938526   -0.205841\n",
       "Time_morning   -0.026935  0.026935       -0.938526      1.000000   -0.144630\n",
       "Time_night     -0.057032  0.057032       -0.205841     -0.144630    1.000000"
      ]
     },
     "execution_count": 55,
     "metadata": {},
     "output_type": "execute_result"
    }
   ],
   "source": [
    "#Creo un Subset con las columnas \"Time\" y \"Sex\" cuando el momoento del día y el sexo de la víctima es conocido.\n",
    "sk_time = sk[[\"Sex\", \"Time\"]]\n",
    "sk_time = sk_time[(sk_time[\"Time\"] != \"unknown\") & (sk_activity[\"Sex\"] != \"unknown\")]\n",
    "\n",
    "#Hago One-Hot Encoding con Get-Dummies y obtengo las matriz de correlaciones entre el sexo y el momento del día.\n",
    "sk_time_enc = pd.get_dummies(sk_time, columns =[\"Sex\", \"Time\"])\n",
    "mc2 = sk_time_enc.corr()\n",
    "mc2\n"
   ]
  },
  {
   "cell_type": "markdown",
   "id": "b8510b0e",
   "metadata": {},
   "source": [
    "# BUSQUEDA DE CORRELACIONES ENTRE SEXO Y ATAQUES FATALES\n",
    "##   - LOS HOMBRES TIENEN MAYOR CORRELACIÓN DE ATAQUES FATALES"
   ]
  },
  {
   "cell_type": "code",
   "execution_count": 56,
   "id": "32c7a9ad",
   "metadata": {},
   "outputs": [
    {
     "data": {
      "text/html": [
       "<div>\n",
       "<style scoped>\n",
       "    .dataframe tbody tr th:only-of-type {\n",
       "        vertical-align: middle;\n",
       "    }\n",
       "\n",
       "    .dataframe tbody tr th {\n",
       "        vertical-align: top;\n",
       "    }\n",
       "\n",
       "    .dataframe thead th {\n",
       "        text-align: right;\n",
       "    }\n",
       "</style>\n",
       "<table border=\"1\" class=\"dataframe\">\n",
       "  <thead>\n",
       "    <tr style=\"text-align: right;\">\n",
       "      <th></th>\n",
       "      <th>Sex_F</th>\n",
       "      <th>Sex_M</th>\n",
       "      <th>Fatal_N</th>\n",
       "      <th>Fatal_Y</th>\n",
       "    </tr>\n",
       "  </thead>\n",
       "  <tbody>\n",
       "    <tr>\n",
       "      <th>Sex_F</th>\n",
       "      <td>1.000000</td>\n",
       "      <td>-1.000000</td>\n",
       "      <td>0.040216</td>\n",
       "      <td>-0.040216</td>\n",
       "    </tr>\n",
       "    <tr>\n",
       "      <th>Sex_M</th>\n",
       "      <td>-1.000000</td>\n",
       "      <td>1.000000</td>\n",
       "      <td>-0.040216</td>\n",
       "      <td>0.040216</td>\n",
       "    </tr>\n",
       "    <tr>\n",
       "      <th>Fatal_N</th>\n",
       "      <td>0.040216</td>\n",
       "      <td>-0.040216</td>\n",
       "      <td>1.000000</td>\n",
       "      <td>-1.000000</td>\n",
       "    </tr>\n",
       "    <tr>\n",
       "      <th>Fatal_Y</th>\n",
       "      <td>-0.040216</td>\n",
       "      <td>0.040216</td>\n",
       "      <td>-1.000000</td>\n",
       "      <td>1.000000</td>\n",
       "    </tr>\n",
       "  </tbody>\n",
       "</table>\n",
       "</div>"
      ],
      "text/plain": [
       "            Sex_F     Sex_M   Fatal_N   Fatal_Y\n",
       "Sex_F    1.000000 -1.000000  0.040216 -0.040216\n",
       "Sex_M   -1.000000  1.000000 -0.040216  0.040216\n",
       "Fatal_N  0.040216 -0.040216  1.000000 -1.000000\n",
       "Fatal_Y -0.040216  0.040216 -1.000000  1.000000"
      ]
     },
     "execution_count": 56,
     "metadata": {},
     "output_type": "execute_result"
    }
   ],
   "source": [
    "#Creo un Subset con las columnas \"Fatal\" y \"Sex\" cuando se sabe si el ataque es Fatal o no y el sexo de la víctima es conocido.\n",
    "sk_fatal = sk[[\"Sex\", \"Fatal\"]]\n",
    "sk_fatal = sk_fatal[(sk_fatal[\"Fatal\"] != \"UNKNOWN\") & (sk_activity[\"Sex\"] != \"unknown\")]\n",
    "\n",
    "#Hago One-Hot Encoding con Get-Dummies y obtengo las matriz de correlaciones entre el sexo y Fatal.\n",
    "sk_fatal_enc = pd.get_dummies(sk_fatal, columns =[\"Sex\", \"Fatal\"])\n",
    "mc3 = sk_fatal_enc.corr()\n",
    "mc3\n"
   ]
  },
  {
   "cell_type": "code",
   "execution_count": 57,
   "id": "e9f8768a",
   "metadata": {},
   "outputs": [
    {
     "data": {
      "text/html": [
       "<div>\n",
       "<style scoped>\n",
       "    .dataframe tbody tr th:only-of-type {\n",
       "        vertical-align: middle;\n",
       "    }\n",
       "\n",
       "    .dataframe tbody tr th {\n",
       "        vertical-align: top;\n",
       "    }\n",
       "\n",
       "    .dataframe thead th {\n",
       "        text-align: right;\n",
       "    }\n",
       "</style>\n",
       "<table border=\"1\" class=\"dataframe\">\n",
       "  <thead>\n",
       "    <tr style=\"text-align: right;\">\n",
       "      <th></th>\n",
       "      <th>Species</th>\n",
       "      <th>Fatal</th>\n",
       "    </tr>\n",
       "  </thead>\n",
       "  <tbody>\n",
       "    <tr>\n",
       "      <th>0</th>\n",
       "      <td>White shark</td>\n",
       "      <td>N</td>\n",
       "    </tr>\n",
       "    <tr>\n",
       "      <th>4</th>\n",
       "      <td>Tiger shark</td>\n",
       "      <td>N</td>\n",
       "    </tr>\n",
       "    <tr>\n",
       "      <th>6</th>\n",
       "      <td>Tiger shark</td>\n",
       "      <td>Y</td>\n",
       "    </tr>\n",
       "    <tr>\n",
       "      <th>8</th>\n",
       "      <td>Bull shark</td>\n",
       "      <td>N</td>\n",
       "    </tr>\n",
       "    <tr>\n",
       "      <th>10</th>\n",
       "      <td>Grey shark</td>\n",
       "      <td>N</td>\n",
       "    </tr>\n",
       "  </tbody>\n",
       "</table>\n",
       "</div>"
      ],
      "text/plain": [
       "        Species Fatal\n",
       "0   White shark     N\n",
       "4   Tiger shark     N\n",
       "6   Tiger shark     Y\n",
       "8    Bull shark     N\n",
       "10   Grey shark     N"
      ]
     },
     "execution_count": 57,
     "metadata": {},
     "output_type": "execute_result"
    }
   ],
   "source": [
    "#Creo una lista con las principales especies de tiburones encontrada\n",
    "sk_list = [\"White shark\",\"Tiger shark\",\"Bull shark\",\"Blacktip shark\",\"Grey shark\",\"Hammer shark\",\"Blue shark\"]\n",
    "sk_spec = sk[[\"Species\", \"Fatal\"]]\n",
    "#Creo un Subset con las columnas \"Species\" y \"Fatal\" cuando la especie está en la lista creada y se sabe si el ataque es Fatal o no.\n",
    "sk_spec = sk_spec[(sk_spec[\"Species\"].isin(sk_list)) & (sk_spec[\"Fatal\"] != \"UNKNOWN\")]\n",
    "sk_spec.head()"
   ]
  },
  {
   "cell_type": "code",
   "execution_count": 58,
   "id": "52c76cdd",
   "metadata": {},
   "outputs": [
    {
     "data": {
      "text/html": [
       "<div>\n",
       "<style scoped>\n",
       "    .dataframe tbody tr th:only-of-type {\n",
       "        vertical-align: middle;\n",
       "    }\n",
       "\n",
       "    .dataframe tbody tr th {\n",
       "        vertical-align: top;\n",
       "    }\n",
       "\n",
       "    .dataframe thead th {\n",
       "        text-align: right;\n",
       "    }\n",
       "</style>\n",
       "<table border=\"1\" class=\"dataframe\">\n",
       "  <thead>\n",
       "    <tr style=\"text-align: right;\">\n",
       "      <th></th>\n",
       "      <th>Fatal_N</th>\n",
       "      <th>Fatal_Y</th>\n",
       "      <th>Species_Blacktip shark</th>\n",
       "      <th>Species_Blue shark</th>\n",
       "      <th>Species_Bull shark</th>\n",
       "      <th>Species_Grey shark</th>\n",
       "      <th>Species_Hammer shark</th>\n",
       "      <th>Species_Tiger shark</th>\n",
       "      <th>Species_White shark</th>\n",
       "    </tr>\n",
       "  </thead>\n",
       "  <tbody>\n",
       "    <tr>\n",
       "      <th>Fatal_N</th>\n",
       "      <td>1.000000</td>\n",
       "      <td>-1.000000</td>\n",
       "      <td>0.132974</td>\n",
       "      <td>0.024054</td>\n",
       "      <td>-0.000265</td>\n",
       "      <td>0.104034</td>\n",
       "      <td>0.080782</td>\n",
       "      <td>-0.065951</td>\n",
       "      <td>-0.095762</td>\n",
       "    </tr>\n",
       "    <tr>\n",
       "      <th>Fatal_Y</th>\n",
       "      <td>-1.000000</td>\n",
       "      <td>1.000000</td>\n",
       "      <td>-0.132974</td>\n",
       "      <td>-0.024054</td>\n",
       "      <td>0.000265</td>\n",
       "      <td>-0.104034</td>\n",
       "      <td>-0.080782</td>\n",
       "      <td>0.065951</td>\n",
       "      <td>0.095762</td>\n",
       "    </tr>\n",
       "    <tr>\n",
       "      <th>Species_Blacktip shark</th>\n",
       "      <td>0.132974</td>\n",
       "      <td>-0.132974</td>\n",
       "      <td>1.000000</td>\n",
       "      <td>-0.051433</td>\n",
       "      <td>-0.105431</td>\n",
       "      <td>-0.059009</td>\n",
       "      <td>-0.052049</td>\n",
       "      <td>-0.138398</td>\n",
       "      <td>-0.267161</td>\n",
       "    </tr>\n",
       "    <tr>\n",
       "      <th>Species_Blue shark</th>\n",
       "      <td>0.024054</td>\n",
       "      <td>-0.024054</td>\n",
       "      <td>-0.051433</td>\n",
       "      <td>1.000000</td>\n",
       "      <td>-0.071896</td>\n",
       "      <td>-0.040240</td>\n",
       "      <td>-0.035493</td>\n",
       "      <td>-0.094377</td>\n",
       "      <td>-0.182183</td>\n",
       "    </tr>\n",
       "    <tr>\n",
       "      <th>Species_Bull shark</th>\n",
       "      <td>-0.000265</td>\n",
       "      <td>0.000265</td>\n",
       "      <td>-0.105431</td>\n",
       "      <td>-0.071896</td>\n",
       "      <td>1.000000</td>\n",
       "      <td>-0.082486</td>\n",
       "      <td>-0.072757</td>\n",
       "      <td>-0.193461</td>\n",
       "      <td>-0.373452</td>\n",
       "    </tr>\n",
       "    <tr>\n",
       "      <th>Species_Grey shark</th>\n",
       "      <td>0.104034</td>\n",
       "      <td>-0.104034</td>\n",
       "      <td>-0.059009</td>\n",
       "      <td>-0.040240</td>\n",
       "      <td>-0.082486</td>\n",
       "      <td>1.000000</td>\n",
       "      <td>-0.040721</td>\n",
       "      <td>-0.108278</td>\n",
       "      <td>-0.209017</td>\n",
       "    </tr>\n",
       "    <tr>\n",
       "      <th>Species_Hammer shark</th>\n",
       "      <td>0.080782</td>\n",
       "      <td>-0.080782</td>\n",
       "      <td>-0.052049</td>\n",
       "      <td>-0.035493</td>\n",
       "      <td>-0.072757</td>\n",
       "      <td>-0.040721</td>\n",
       "      <td>1.000000</td>\n",
       "      <td>-0.095507</td>\n",
       "      <td>-0.184364</td>\n",
       "    </tr>\n",
       "    <tr>\n",
       "      <th>Species_Tiger shark</th>\n",
       "      <td>-0.065951</td>\n",
       "      <td>0.065951</td>\n",
       "      <td>-0.138398</td>\n",
       "      <td>-0.094377</td>\n",
       "      <td>-0.193461</td>\n",
       "      <td>-0.108278</td>\n",
       "      <td>-0.095507</td>\n",
       "      <td>1.000000</td>\n",
       "      <td>-0.490225</td>\n",
       "    </tr>\n",
       "    <tr>\n",
       "      <th>Species_White shark</th>\n",
       "      <td>-0.095762</td>\n",
       "      <td>0.095762</td>\n",
       "      <td>-0.267161</td>\n",
       "      <td>-0.182183</td>\n",
       "      <td>-0.373452</td>\n",
       "      <td>-0.209017</td>\n",
       "      <td>-0.184364</td>\n",
       "      <td>-0.490225</td>\n",
       "      <td>1.000000</td>\n",
       "    </tr>\n",
       "  </tbody>\n",
       "</table>\n",
       "</div>"
      ],
      "text/plain": [
       "                         Fatal_N   Fatal_Y  Species_Blacktip shark  \\\n",
       "Fatal_N                 1.000000 -1.000000                0.132974   \n",
       "Fatal_Y                -1.000000  1.000000               -0.132974   \n",
       "Species_Blacktip shark  0.132974 -0.132974                1.000000   \n",
       "Species_Blue shark      0.024054 -0.024054               -0.051433   \n",
       "Species_Bull shark     -0.000265  0.000265               -0.105431   \n",
       "Species_Grey shark      0.104034 -0.104034               -0.059009   \n",
       "Species_Hammer shark    0.080782 -0.080782               -0.052049   \n",
       "Species_Tiger shark    -0.065951  0.065951               -0.138398   \n",
       "Species_White shark    -0.095762  0.095762               -0.267161   \n",
       "\n",
       "                        Species_Blue shark  Species_Bull shark  \\\n",
       "Fatal_N                           0.024054           -0.000265   \n",
       "Fatal_Y                          -0.024054            0.000265   \n",
       "Species_Blacktip shark           -0.051433           -0.105431   \n",
       "Species_Blue shark                1.000000           -0.071896   \n",
       "Species_Bull shark               -0.071896            1.000000   \n",
       "Species_Grey shark               -0.040240           -0.082486   \n",
       "Species_Hammer shark             -0.035493           -0.072757   \n",
       "Species_Tiger shark              -0.094377           -0.193461   \n",
       "Species_White shark              -0.182183           -0.373452   \n",
       "\n",
       "                        Species_Grey shark  Species_Hammer shark  \\\n",
       "Fatal_N                           0.104034              0.080782   \n",
       "Fatal_Y                          -0.104034             -0.080782   \n",
       "Species_Blacktip shark           -0.059009             -0.052049   \n",
       "Species_Blue shark               -0.040240             -0.035493   \n",
       "Species_Bull shark               -0.082486             -0.072757   \n",
       "Species_Grey shark                1.000000             -0.040721   \n",
       "Species_Hammer shark             -0.040721              1.000000   \n",
       "Species_Tiger shark              -0.108278             -0.095507   \n",
       "Species_White shark              -0.209017             -0.184364   \n",
       "\n",
       "                        Species_Tiger shark  Species_White shark  \n",
       "Fatal_N                           -0.065951            -0.095762  \n",
       "Fatal_Y                            0.065951             0.095762  \n",
       "Species_Blacktip shark            -0.138398            -0.267161  \n",
       "Species_Blue shark                -0.094377            -0.182183  \n",
       "Species_Bull shark                -0.193461            -0.373452  \n",
       "Species_Grey shark                -0.108278            -0.209017  \n",
       "Species_Hammer shark              -0.095507            -0.184364  \n",
       "Species_Tiger shark                1.000000            -0.490225  \n",
       "Species_White shark               -0.490225             1.000000  "
      ]
     },
     "execution_count": 58,
     "metadata": {},
     "output_type": "execute_result"
    }
   ],
   "source": [
    "#Hago One-Hot Encoding con Get-Dummies y obtengo las matriz de correlaciones entre la especie y la fatalidad.\n",
    "sk_spec_enc = pd.get_dummies(sk_spec, columns =[\"Fatal\",\"Species\"])\n",
    "mc4 = sk_spec_enc.corr()\n",
    "mc4\n"
   ]
  },
  {
   "cell_type": "code",
   "execution_count": 59,
   "id": "4071b5a6",
   "metadata": {},
   "outputs": [],
   "source": [
    "#Creo un Subset del original cuando la especie está en la lista creada y se sabe si el ataque es Fatal o no.\n",
    "sk_spec2 = sk[(sk[\"Species\"].isin(sk_list)) & (sk[\"Fatal\"] != \"UNKNOWN\")]\n",
    "\n",
    "#Hago un GROUPBY agrupando por especies, desagrupando por Fatal o no Fatal y contando los casos\n",
    "sk_spec2 = sk_spec2.groupby([\"Species\",\"Fatal\"]).agg({\"Case_Number\": \"count\"})\n",
    "\n"
   ]
  },
  {
   "cell_type": "code",
   "execution_count": 60,
   "id": "acba2a81",
   "metadata": {},
   "outputs": [
    {
     "data": {
      "text/plain": [
       "array(['Blacktip shark', 'Blue shark', 'Bull shark', 'Grey shark',\n",
       "       'Hammer shark', 'Tiger shark', 'White shark'], dtype=object)"
      ]
     },
     "execution_count": 60,
     "metadata": {},
     "output_type": "execute_result"
    }
   ],
   "source": [
    "sk_spec2.reset_index(inplace = True)\n",
    "arr1 = sk_spec2.Species.unique()\n",
    "arr1"
   ]
  },
  {
   "cell_type": "code",
   "execution_count": 61,
   "id": "86ef0161",
   "metadata": {},
   "outputs": [],
   "source": [
    "#Añado indice Fatal - \"Y\" con valor \"0\" para las especies que no tienen ningún caso Fatal\n",
    "new_vals2 =[]\n",
    "for i in arr1:    \n",
    "        new_vals2.append((i,\"Y\",0))\n",
    "\n",
    "df3 = pd.DataFrame(new_vals2,columns=['Species', 'Fatal', 'Case_Number'])\n",
    "sk_spec2 = pd.concat([sk_spec2,df3])\n",
    "sk_spec2 = sk_spec2.groupby([\"Species\",\"Fatal\"]).agg({\"Case_Number\":sum})\n"
   ]
  },
  {
   "cell_type": "code",
   "execution_count": 62,
   "id": "a880d8f8",
   "metadata": {},
   "outputs": [
    {
     "data": {
      "text/html": [
       "<div>\n",
       "<style scoped>\n",
       "    .dataframe tbody tr th:only-of-type {\n",
       "        vertical-align: middle;\n",
       "    }\n",
       "\n",
       "    .dataframe tbody tr th {\n",
       "        vertical-align: top;\n",
       "    }\n",
       "\n",
       "    .dataframe thead th {\n",
       "        text-align: right;\n",
       "    }\n",
       "</style>\n",
       "<table border=\"1\" class=\"dataframe\">\n",
       "  <thead>\n",
       "    <tr style=\"text-align: right;\">\n",
       "      <th></th>\n",
       "      <th></th>\n",
       "      <th>Case_Number</th>\n",
       "      <th>Percentage</th>\n",
       "    </tr>\n",
       "    <tr>\n",
       "      <th>Species</th>\n",
       "      <th>Fatal</th>\n",
       "      <th></th>\n",
       "      <th></th>\n",
       "    </tr>\n",
       "  </thead>\n",
       "  <tbody>\n",
       "    <tr>\n",
       "      <th rowspan=\"2\" valign=\"top\">Blacktip shark</th>\n",
       "      <th>N</th>\n",
       "      <td>89</td>\n",
       "      <td>100.00</td>\n",
       "    </tr>\n",
       "    <tr>\n",
       "      <th>Y</th>\n",
       "      <td>0</td>\n",
       "      <td>0.00</td>\n",
       "    </tr>\n",
       "    <tr>\n",
       "      <th rowspan=\"2\" valign=\"top\">Blue shark</th>\n",
       "      <th>N</th>\n",
       "      <td>37</td>\n",
       "      <td>86.05</td>\n",
       "    </tr>\n",
       "    <tr>\n",
       "      <th>Y</th>\n",
       "      <td>6</td>\n",
       "      <td>13.95</td>\n",
       "    </tr>\n",
       "    <tr>\n",
       "      <th rowspan=\"2\" valign=\"top\">Bull shark</th>\n",
       "      <th>N</th>\n",
       "      <td>132</td>\n",
       "      <td>80.98</td>\n",
       "    </tr>\n",
       "    <tr>\n",
       "      <th>Y</th>\n",
       "      <td>31</td>\n",
       "      <td>19.02</td>\n",
       "    </tr>\n",
       "    <tr>\n",
       "      <th rowspan=\"2\" valign=\"top\">Grey shark</th>\n",
       "      <th>N</th>\n",
       "      <td>56</td>\n",
       "      <td>100.00</td>\n",
       "    </tr>\n",
       "    <tr>\n",
       "      <th>Y</th>\n",
       "      <td>0</td>\n",
       "      <td>0.00</td>\n",
       "    </tr>\n",
       "    <tr>\n",
       "      <th rowspan=\"2\" valign=\"top\">Hammer shark</th>\n",
       "      <th>N</th>\n",
       "      <td>43</td>\n",
       "      <td>97.73</td>\n",
       "    </tr>\n",
       "    <tr>\n",
       "      <th>Y</th>\n",
       "      <td>1</td>\n",
       "      <td>2.27</td>\n",
       "    </tr>\n",
       "    <tr>\n",
       "      <th rowspan=\"2\" valign=\"top\">Tiger shark</th>\n",
       "      <th>N</th>\n",
       "      <td>195</td>\n",
       "      <td>75.88</td>\n",
       "    </tr>\n",
       "    <tr>\n",
       "      <th>Y</th>\n",
       "      <td>62</td>\n",
       "      <td>24.12</td>\n",
       "    </tr>\n",
       "    <tr>\n",
       "      <th rowspan=\"2\" valign=\"top\">White shark</th>\n",
       "      <th>N</th>\n",
       "      <td>476</td>\n",
       "      <td>77.15</td>\n",
       "    </tr>\n",
       "    <tr>\n",
       "      <th>Y</th>\n",
       "      <td>141</td>\n",
       "      <td>22.85</td>\n",
       "    </tr>\n",
       "  </tbody>\n",
       "</table>\n",
       "</div>"
      ],
      "text/plain": [
       "                      Case_Number  Percentage\n",
       "Species        Fatal                         \n",
       "Blacktip shark N               89      100.00\n",
       "               Y                0        0.00\n",
       "Blue shark     N               37       86.05\n",
       "               Y                6       13.95\n",
       "Bull shark     N              132       80.98\n",
       "               Y               31       19.02\n",
       "Grey shark     N               56      100.00\n",
       "               Y                0        0.00\n",
       "Hammer shark   N               43       97.73\n",
       "               Y                1        2.27\n",
       "Tiger shark    N              195       75.88\n",
       "               Y               62       24.12\n",
       "White shark    N              476       77.15\n",
       "               Y              141       22.85"
      ]
     },
     "execution_count": 62,
     "metadata": {},
     "output_type": "execute_result"
    }
   ],
   "source": [
    "#Añado una columna que calcule los porcentajes de Fatal y No Fatal por especie\n",
    "sk_spec2[\"Percentage\"] = 0\n",
    "for ele in sk_spec2.Percentage:\n",
    "    for i in range(14):\n",
    "        if i%2 == 0:\n",
    "            a = (sk_spec2.iloc[(i,0)])\n",
    "            b = (sk_spec2.iloc[(i,0)])+(sk_spec2.iloc[(i+1,0)])\n",
    "            sk_spec2.iloc[(i,1)] = round((a/b)*100,2)\n",
    "        else:            \n",
    "            a = (sk_spec2.iloc[(i,0)])\n",
    "            b = (sk_spec2.iloc[(i,0)])+(sk_spec2.iloc[(i-1,0)])\n",
    "            sk_spec2.iloc[(i,1)] = round((a/b)*100,2)\n",
    "            \n",
    "sk_spec2       "
   ]
  },
  {
   "cell_type": "markdown",
   "id": "adfaecec",
   "metadata": {},
   "source": [
    "# Represento el porcentaje de FATALIDAD para algunas de las principales especies de tiburon"
   ]
  },
  {
   "cell_type": "code",
   "execution_count": 63,
   "id": "82590a69",
   "metadata": {},
   "outputs": [
    {
     "data": {
      "image/png": "[encoded data removed]",
      "text/plain": [
       "<Figure size 640x480 with 1 Axes>"
      ]
     },
     "metadata": {},
     "output_type": "display_data"
    }
   ],
   "source": [
    "\n",
    "plt.title(\"White shark\")\n",
    "\n",
    "colors = ['#0000FF','#FF0000', ]\n",
    "labels = [\"Not Fatal\", \"Fatal\"]\n",
    "sk_spec2.loc[\"White shark\"].Case_Number.plot.pie(colors=colors, labels=labels,\n",
    "        autopct='%1.2f%%', pctdistance=0.5, ylabel = \"\");"
   ]
  },
  {
   "cell_type": "code",
   "execution_count": 64,
   "id": "0ba4b835",
   "metadata": {},
   "outputs": [
    {
     "data": {
      "image/png": "[encoded data removed]",
      "text/plain": [
       "<Figure size 640x480 with 1 Axes>"
      ]
     },
     "metadata": {},
     "output_type": "display_data"
    }
   ],
   "source": [
    "\n",
    "plt.title(\"Tiger shark\")\n",
    "sk_spec2.loc[\"Tiger shark\"].Case_Number.plot.pie(colors=colors, labels=labels,\n",
    "        autopct='%1.1f%%', pctdistance=0.5,ylabel = \"\");"
   ]
  },
  {
   "cell_type": "code",
   "execution_count": 65,
   "id": "7eae47f9",
   "metadata": {},
   "outputs": [
    {
     "data": {
      "image/png": "[encoded data removed]",
      "text/plain": [
       "<Figure size 640x480 with 1 Axes>"
      ]
     },
     "metadata": {},
     "output_type": "display_data"
    }
   ],
   "source": [
    "plt.title(\"Bull shark\")\n",
    "sk_spec2.loc[\"Bull shark\"].Case_Number.plot.pie(colors=colors, labels=labels,\n",
    "        autopct='%1.1f%%', pctdistance=0.5,ylabel = \"\");"
   ]
  },
  {
   "cell_type": "code",
   "execution_count": 66,
   "id": "50ea7634",
   "metadata": {},
   "outputs": [
    {
     "data": {
      "image/png": "[encoded data removed]",
      "text/plain": [
       "<Figure size 640x480 with 1 Axes>"
      ]
     },
     "metadata": {},
     "output_type": "display_data"
    }
   ],
   "source": [
    "plt.title(\"Blue shark\")\n",
    "sk_spec2.loc[\"Blue shark\"].Case_Number.plot.pie(colors=colors, labels=labels,\n",
    "        autopct='%1.2f%%', pctdistance=0.5,ylabel = \"\");"
   ]
  },
  {
   "cell_type": "code",
   "execution_count": 67,
   "id": "958198e6",
   "metadata": {},
   "outputs": [
    {
     "data": {
      "image/png": "[encoded data removed]",
      "text/plain": [
       "<Figure size 640x480 with 1 Axes>"
      ]
     },
     "metadata": {},
     "output_type": "display_data"
    }
   ],
   "source": [
    "plt.title(\"Hammer shark\")\n",
    "sk_spec2.loc[\"Hammer shark\"].Case_Number.plot.pie(colors=colors, labels=labels,\n",
    "        autopct='%1.2f%%', pctdistance=0.5,ylabel = \"\");"
   ]
  },
  {
   "cell_type": "code",
   "execution_count": 68,
   "id": "c047b47d",
   "metadata": {},
   "outputs": [
    {
     "data": {
      "text/html": [
       "<div>\n",
       "<style scoped>\n",
       "    .dataframe tbody tr th:only-of-type {\n",
       "        vertical-align: middle;\n",
       "    }\n",
       "\n",
       "    .dataframe tbody tr th {\n",
       "        vertical-align: top;\n",
       "    }\n",
       "\n",
       "    .dataframe thead th {\n",
       "        text-align: right;\n",
       "    }\n",
       "</style>\n",
       "<table border=\"1\" class=\"dataframe\">\n",
       "  <thead>\n",
       "    <tr style=\"text-align: right;\">\n",
       "      <th></th>\n",
       "      <th>Species</th>\n",
       "      <th>Time</th>\n",
       "    </tr>\n",
       "  </thead>\n",
       "  <tbody>\n",
       "    <tr>\n",
       "      <th>0</th>\n",
       "      <td>White shark</td>\n",
       "      <td>afternoon</td>\n",
       "    </tr>\n",
       "    <tr>\n",
       "      <th>6</th>\n",
       "      <td>Tiger shark</td>\n",
       "      <td>afternoon</td>\n",
       "    </tr>\n",
       "    <tr>\n",
       "      <th>8</th>\n",
       "      <td>Bull shark</td>\n",
       "      <td>afternoon</td>\n",
       "    </tr>\n",
       "    <tr>\n",
       "      <th>10</th>\n",
       "      <td>Grey shark</td>\n",
       "      <td>morning</td>\n",
       "    </tr>\n",
       "    <tr>\n",
       "      <th>18</th>\n",
       "      <td>Tiger shark</td>\n",
       "      <td>morning</td>\n",
       "    </tr>\n",
       "    <tr>\n",
       "      <th>...</th>\n",
       "      <td>...</td>\n",
       "      <td>...</td>\n",
       "    </tr>\n",
       "    <tr>\n",
       "      <th>5310</th>\n",
       "      <td>White shark</td>\n",
       "      <td>afternoon</td>\n",
       "    </tr>\n",
       "    <tr>\n",
       "      <th>5311</th>\n",
       "      <td>White shark</td>\n",
       "      <td>afternoon</td>\n",
       "    </tr>\n",
       "    <tr>\n",
       "      <th>5545</th>\n",
       "      <td>White shark</td>\n",
       "      <td>afternoon</td>\n",
       "    </tr>\n",
       "    <tr>\n",
       "      <th>5814</th>\n",
       "      <td>Bull shark</td>\n",
       "      <td>afternoon</td>\n",
       "    </tr>\n",
       "    <tr>\n",
       "      <th>6021</th>\n",
       "      <td>White shark</td>\n",
       "      <td>night</td>\n",
       "    </tr>\n",
       "  </tbody>\n",
       "</table>\n",
       "<p>888 rows × 2 columns</p>\n",
       "</div>"
      ],
      "text/plain": [
       "          Species       Time\n",
       "0     White shark  afternoon\n",
       "6     Tiger shark  afternoon\n",
       "8      Bull shark  afternoon\n",
       "10     Grey shark    morning\n",
       "18    Tiger shark    morning\n",
       "...           ...        ...\n",
       "5310  White shark  afternoon\n",
       "5311  White shark  afternoon\n",
       "5545  White shark  afternoon\n",
       "5814   Bull shark  afternoon\n",
       "6021  White shark      night\n",
       "\n",
       "[888 rows x 2 columns]"
      ]
     },
     "execution_count": 68,
     "metadata": {},
     "output_type": "execute_result"
    }
   ],
   "source": [
    "#Creo un nuevo Subset con las columnas Species y Time cuando la especie es conocida y el momento del día es conocido\n",
    "sk_spec3 = sk[[\"Species\",\"Time\"]][(sk[\"Species\"].isin(sk_list)) & (sk[\"Time\"] != \"unknown\")]\n",
    "sk_spec3\n",
    "\n"
   ]
  },
  {
   "cell_type": "code",
   "execution_count": 69,
   "id": "8a6446b5",
   "metadata": {},
   "outputs": [
    {
     "data": {
      "text/html": [
       "<div>\n",
       "<style scoped>\n",
       "    .dataframe tbody tr th:only-of-type {\n",
       "        vertical-align: middle;\n",
       "    }\n",
       "\n",
       "    .dataframe tbody tr th {\n",
       "        vertical-align: top;\n",
       "    }\n",
       "\n",
       "    .dataframe thead th {\n",
       "        text-align: right;\n",
       "    }\n",
       "</style>\n",
       "<table border=\"1\" class=\"dataframe\">\n",
       "  <thead>\n",
       "    <tr style=\"text-align: right;\">\n",
       "      <th></th>\n",
       "      <th>Time_afternoon</th>\n",
       "      <th>Time_morning</th>\n",
       "      <th>Time_night</th>\n",
       "      <th>Species_Blacktip shark</th>\n",
       "      <th>Species_Blue shark</th>\n",
       "      <th>Species_Bull shark</th>\n",
       "      <th>Species_Grey shark</th>\n",
       "      <th>Species_Hammer shark</th>\n",
       "      <th>Species_Tiger shark</th>\n",
       "      <th>Species_White shark</th>\n",
       "    </tr>\n",
       "  </thead>\n",
       "  <tbody>\n",
       "    <tr>\n",
       "      <th>Time_afternoon</th>\n",
       "      <td>1.000000</td>\n",
       "      <td>-0.955821</td>\n",
       "      <td>-0.156658</td>\n",
       "      <td>-0.000078</td>\n",
       "      <td>-0.012629</td>\n",
       "      <td>0.076142</td>\n",
       "      <td>0.035496</td>\n",
       "      <td>0.027442</td>\n",
       "      <td>0.012812</td>\n",
       "      <td>-0.080135</td>\n",
       "    </tr>\n",
       "    <tr>\n",
       "      <th>Time_morning</th>\n",
       "      <td>-0.955821</td>\n",
       "      <td>1.000000</td>\n",
       "      <td>-0.140583</td>\n",
       "      <td>-0.004800</td>\n",
       "      <td>-0.013997</td>\n",
       "      <td>-0.078138</td>\n",
       "      <td>-0.038649</td>\n",
       "      <td>-0.021011</td>\n",
       "      <td>-0.013304</td>\n",
       "      <td>0.091104</td>\n",
       "    </tr>\n",
       "    <tr>\n",
       "      <th>Time_night</th>\n",
       "      <td>-0.156658</td>\n",
       "      <td>-0.140583</td>\n",
       "      <td>1.000000</td>\n",
       "      <td>0.016393</td>\n",
       "      <td>0.089567</td>\n",
       "      <td>0.006079</td>\n",
       "      <td>0.010302</td>\n",
       "      <td>-0.021834</td>\n",
       "      <td>0.001550</td>\n",
       "      <td>-0.036197</td>\n",
       "    </tr>\n",
       "    <tr>\n",
       "      <th>Species_Blacktip shark</th>\n",
       "      <td>-0.000078</td>\n",
       "      <td>-0.004800</td>\n",
       "      <td>0.016393</td>\n",
       "      <td>1.000000</td>\n",
       "      <td>-0.038935</td>\n",
       "      <td>-0.110693</td>\n",
       "      <td>-0.054752</td>\n",
       "      <td>-0.040087</td>\n",
       "      <td>-0.137579</td>\n",
       "      <td>-0.289576</td>\n",
       "    </tr>\n",
       "    <tr>\n",
       "      <th>Species_Blue shark</th>\n",
       "      <td>-0.012629</td>\n",
       "      <td>-0.013997</td>\n",
       "      <td>0.089567</td>\n",
       "      <td>-0.038935</td>\n",
       "      <td>1.000000</td>\n",
       "      <td>-0.055489</td>\n",
       "      <td>-0.027447</td>\n",
       "      <td>-0.020095</td>\n",
       "      <td>-0.068967</td>\n",
       "      <td>-0.145162</td>\n",
       "    </tr>\n",
       "    <tr>\n",
       "      <th>Species_Bull shark</th>\n",
       "      <td>0.076142</td>\n",
       "      <td>-0.078138</td>\n",
       "      <td>0.006079</td>\n",
       "      <td>-0.110693</td>\n",
       "      <td>-0.055489</td>\n",
       "      <td>1.000000</td>\n",
       "      <td>-0.078031</td>\n",
       "      <td>-0.057131</td>\n",
       "      <td>-0.196074</td>\n",
       "      <td>-0.412697</td>\n",
       "    </tr>\n",
       "    <tr>\n",
       "      <th>Species_Grey shark</th>\n",
       "      <td>0.035496</td>\n",
       "      <td>-0.038649</td>\n",
       "      <td>0.010302</td>\n",
       "      <td>-0.054752</td>\n",
       "      <td>-0.027447</td>\n",
       "      <td>-0.078031</td>\n",
       "      <td>1.000000</td>\n",
       "      <td>-0.028259</td>\n",
       "      <td>-0.096984</td>\n",
       "      <td>-0.204132</td>\n",
       "    </tr>\n",
       "    <tr>\n",
       "      <th>Species_Hammer shark</th>\n",
       "      <td>0.027442</td>\n",
       "      <td>-0.021011</td>\n",
       "      <td>-0.021834</td>\n",
       "      <td>-0.040087</td>\n",
       "      <td>-0.020095</td>\n",
       "      <td>-0.057131</td>\n",
       "      <td>-0.028259</td>\n",
       "      <td>1.000000</td>\n",
       "      <td>-0.071007</td>\n",
       "      <td>-0.149456</td>\n",
       "    </tr>\n",
       "    <tr>\n",
       "      <th>Species_Tiger shark</th>\n",
       "      <td>0.012812</td>\n",
       "      <td>-0.013304</td>\n",
       "      <td>0.001550</td>\n",
       "      <td>-0.137579</td>\n",
       "      <td>-0.068967</td>\n",
       "      <td>-0.196074</td>\n",
       "      <td>-0.096984</td>\n",
       "      <td>-0.071007</td>\n",
       "      <td>1.000000</td>\n",
       "      <td>-0.512935</td>\n",
       "    </tr>\n",
       "    <tr>\n",
       "      <th>Species_White shark</th>\n",
       "      <td>-0.080135</td>\n",
       "      <td>0.091104</td>\n",
       "      <td>-0.036197</td>\n",
       "      <td>-0.289576</td>\n",
       "      <td>-0.145162</td>\n",
       "      <td>-0.412697</td>\n",
       "      <td>-0.204132</td>\n",
       "      <td>-0.149456</td>\n",
       "      <td>-0.512935</td>\n",
       "      <td>1.000000</td>\n",
       "    </tr>\n",
       "  </tbody>\n",
       "</table>\n",
       "</div>"
      ],
      "text/plain": [
       "                        Time_afternoon  Time_morning  Time_night  \\\n",
       "Time_afternoon                1.000000     -0.955821   -0.156658   \n",
       "Time_morning                 -0.955821      1.000000   -0.140583   \n",
       "Time_night                   -0.156658     -0.140583    1.000000   \n",
       "Species_Blacktip shark       -0.000078     -0.004800    0.016393   \n",
       "Species_Blue shark           -0.012629     -0.013997    0.089567   \n",
       "Species_Bull shark            0.076142     -0.078138    0.006079   \n",
       "Species_Grey shark            0.035496     -0.038649    0.010302   \n",
       "Species_Hammer shark          0.027442     -0.021011   -0.021834   \n",
       "Species_Tiger shark           0.012812     -0.013304    0.001550   \n",
       "Species_White shark          -0.080135      0.091104   -0.036197   \n",
       "\n",
       "                        Species_Blacktip shark  Species_Blue shark  \\\n",
       "Time_afternoon                       -0.000078           -0.012629   \n",
       "Time_morning                         -0.004800           -0.013997   \n",
       "Time_night                            0.016393            0.089567   \n",
       "Species_Blacktip shark                1.000000           -0.038935   \n",
       "Species_Blue shark                   -0.038935            1.000000   \n",
       "Species_Bull shark                   -0.110693           -0.055489   \n",
       "Species_Grey shark                   -0.054752           -0.027447   \n",
       "Species_Hammer shark                 -0.040087           -0.020095   \n",
       "Species_Tiger shark                  -0.137579           -0.068967   \n",
       "Species_White shark                  -0.289576           -0.145162   \n",
       "\n",
       "                        Species_Bull shark  Species_Grey shark  \\\n",
       "Time_afternoon                    0.076142            0.035496   \n",
       "Time_morning                     -0.078138           -0.038649   \n",
       "Time_night                        0.006079            0.010302   \n",
       "Species_Blacktip shark           -0.110693           -0.054752   \n",
       "Species_Blue shark               -0.055489           -0.027447   \n",
       "Species_Bull shark                1.000000           -0.078031   \n",
       "Species_Grey shark               -0.078031            1.000000   \n",
       "Species_Hammer shark             -0.057131           -0.028259   \n",
       "Species_Tiger shark              -0.196074           -0.096984   \n",
       "Species_White shark              -0.412697           -0.204132   \n",
       "\n",
       "                        Species_Hammer shark  Species_Tiger shark  \\\n",
       "Time_afternoon                      0.027442             0.012812   \n",
       "Time_morning                       -0.021011            -0.013304   \n",
       "Time_night                         -0.021834             0.001550   \n",
       "Species_Blacktip shark             -0.040087            -0.137579   \n",
       "Species_Blue shark                 -0.020095            -0.068967   \n",
       "Species_Bull shark                 -0.057131            -0.196074   \n",
       "Species_Grey shark                 -0.028259            -0.096984   \n",
       "Species_Hammer shark                1.000000            -0.071007   \n",
       "Species_Tiger shark                -0.071007             1.000000   \n",
       "Species_White shark                -0.149456            -0.512935   \n",
       "\n",
       "                        Species_White shark  \n",
       "Time_afternoon                    -0.080135  \n",
       "Time_morning                       0.091104  \n",
       "Time_night                        -0.036197  \n",
       "Species_Blacktip shark            -0.289576  \n",
       "Species_Blue shark                -0.145162  \n",
       "Species_Bull shark                -0.412697  \n",
       "Species_Grey shark                -0.204132  \n",
       "Species_Hammer shark              -0.149456  \n",
       "Species_Tiger shark               -0.512935  \n",
       "Species_White shark                1.000000  "
      ]
     },
     "execution_count": 69,
     "metadata": {},
     "output_type": "execute_result"
    }
   ],
   "source": [
    "#Hago One-Hot Encoding con Get-Dummies y obtengo las matriz de correlaciones entre la especie y el momento del día.\n",
    "sk_spec_enc2 = pd.get_dummies(sk_spec3, columns =[\"Time\",\"Species\"])\n",
    "sk_spec_enc2\n",
    "mc5 = sk_spec_enc2.corr()\n",
    "mc5"
   ]
  },
  {
   "cell_type": "markdown",
   "id": "717c6ba1",
   "metadata": {},
   "source": [
    "# Evolución de la tasa de Fatalidad de los ataques desde 1950"
   ]
  },
  {
   "cell_type": "code",
   "execution_count": 70,
   "id": "fa4ce85e",
   "metadata": {},
   "outputs": [],
   "source": [
    "\n",
    "sk_year2 = sk[[\"Case_Number\", \"Year\", \"Fatal\"]][(sk.Year >= 1950) & (sk[\"Fatal\"] != \"UNKNOWN\")]\n",
    "#sk_year2.Year.value_counts()\n"
   ]
  },
  {
   "cell_type": "code",
   "execution_count": 71,
   "id": "aaa95616",
   "metadata": {},
   "outputs": [
    {
     "data": {
      "text/html": [
       "<div>\n",
       "<style scoped>\n",
       "    .dataframe tbody tr th:only-of-type {\n",
       "        vertical-align: middle;\n",
       "    }\n",
       "\n",
       "    .dataframe tbody tr th {\n",
       "        vertical-align: top;\n",
       "    }\n",
       "\n",
       "    .dataframe thead th {\n",
       "        text-align: right;\n",
       "    }\n",
       "</style>\n",
       "<table border=\"1\" class=\"dataframe\">\n",
       "  <thead>\n",
       "    <tr style=\"text-align: right;\">\n",
       "      <th></th>\n",
       "      <th></th>\n",
       "      <th>Case_Number</th>\n",
       "    </tr>\n",
       "    <tr>\n",
       "      <th>Year</th>\n",
       "      <th>Fatal</th>\n",
       "      <th></th>\n",
       "    </tr>\n",
       "  </thead>\n",
       "  <tbody>\n",
       "    <tr>\n",
       "      <th rowspan=\"2\" valign=\"top\">1950</th>\n",
       "      <th>N</th>\n",
       "      <td>20</td>\n",
       "    </tr>\n",
       "    <tr>\n",
       "      <th>Y</th>\n",
       "      <td>6</td>\n",
       "    </tr>\n",
       "    <tr>\n",
       "      <th rowspan=\"2\" valign=\"top\">1951</th>\n",
       "      <th>N</th>\n",
       "      <td>18</td>\n",
       "    </tr>\n",
       "    <tr>\n",
       "      <th>Y</th>\n",
       "      <td>9</td>\n",
       "    </tr>\n",
       "    <tr>\n",
       "      <th>1952</th>\n",
       "      <th>N</th>\n",
       "      <td>16</td>\n",
       "    </tr>\n",
       "    <tr>\n",
       "      <th>...</th>\n",
       "      <th>...</th>\n",
       "      <td>...</td>\n",
       "    </tr>\n",
       "    <tr>\n",
       "      <th>2016</th>\n",
       "      <th>Y</th>\n",
       "      <td>5</td>\n",
       "    </tr>\n",
       "    <tr>\n",
       "      <th rowspan=\"2\" valign=\"top\">2017</th>\n",
       "      <th>N</th>\n",
       "      <td>111</td>\n",
       "    </tr>\n",
       "    <tr>\n",
       "      <th>Y</th>\n",
       "      <td>11</td>\n",
       "    </tr>\n",
       "    <tr>\n",
       "      <th rowspan=\"2\" valign=\"top\">2018</th>\n",
       "      <th>N</th>\n",
       "      <td>51</td>\n",
       "    </tr>\n",
       "    <tr>\n",
       "      <th>Y</th>\n",
       "      <td>1</td>\n",
       "    </tr>\n",
       "  </tbody>\n",
       "</table>\n",
       "<p>137 rows × 1 columns</p>\n",
       "</div>"
      ],
      "text/plain": [
       "            Case_Number\n",
       "Year Fatal             \n",
       "1950 N               20\n",
       "     Y                6\n",
       "1951 N               18\n",
       "     Y                9\n",
       "1952 N               16\n",
       "...                 ...\n",
       "2016 Y                5\n",
       "2017 N              111\n",
       "     Y               11\n",
       "2018 N               51\n",
       "     Y                1\n",
       "\n",
       "[137 rows x 1 columns]"
      ]
     },
     "execution_count": 71,
     "metadata": {},
     "output_type": "execute_result"
    }
   ],
   "source": [
    "#pd.set_option('display.max_rows', None)\n",
    "sk_year2 = sk_year2.groupby([\"Year\",\"Fatal\"]).agg({\"Case_Number\": \"count\"})\n",
    "sk_year2"
   ]
  },
  {
   "cell_type": "code",
   "execution_count": 72,
   "id": "347de2f0",
   "metadata": {},
   "outputs": [
    {
     "data": {
      "text/plain": [
       "array([1950, 1951, 1952, 1953, 1954, 1955, 1956, 1957, 1958, 1959, 1960,\n",
       "       1961, 1962, 1963, 1964, 1965, 1966, 1967, 1968, 1969, 1970, 1971,\n",
       "       1972, 1973, 1974, 1975, 1976, 1977, 1978, 1979, 1980, 1981, 1982,\n",
       "       1983, 1984, 1985, 1986, 1987, 1988, 1989, 1990, 1991, 1992, 1993,\n",
       "       1994, 1995, 1996, 1997, 1998, 1999, 2000, 2001, 2002, 2003, 2004,\n",
       "       2005, 2006, 2007, 2008, 2009, 2010, 2011, 2012, 2013, 2014, 2015,\n",
       "       2016, 2017, 2018], dtype=int64)"
      ]
     },
     "execution_count": 72,
     "metadata": {},
     "output_type": "execute_result"
    }
   ],
   "source": [
    "sk_year2.reset_index(inplace = True)\n",
    "arr3 = sk_year2.Year.unique()\n",
    "arr3"
   ]
  },
  {
   "cell_type": "code",
   "execution_count": 73,
   "id": "964c73a6",
   "metadata": {},
   "outputs": [
    {
     "data": {
      "text/html": [
       "<div>\n",
       "<style scoped>\n",
       "    .dataframe tbody tr th:only-of-type {\n",
       "        vertical-align: middle;\n",
       "    }\n",
       "\n",
       "    .dataframe tbody tr th {\n",
       "        vertical-align: top;\n",
       "    }\n",
       "\n",
       "    .dataframe thead th {\n",
       "        text-align: right;\n",
       "    }\n",
       "</style>\n",
       "<table border=\"1\" class=\"dataframe\">\n",
       "  <thead>\n",
       "    <tr style=\"text-align: right;\">\n",
       "      <th></th>\n",
       "      <th></th>\n",
       "      <th>Case_Number</th>\n",
       "    </tr>\n",
       "    <tr>\n",
       "      <th>Year</th>\n",
       "      <th>Fatal</th>\n",
       "      <th></th>\n",
       "    </tr>\n",
       "  </thead>\n",
       "  <tbody>\n",
       "    <tr>\n",
       "      <th rowspan=\"2\" valign=\"top\">1950</th>\n",
       "      <th>N</th>\n",
       "      <td>20</td>\n",
       "    </tr>\n",
       "    <tr>\n",
       "      <th>Y</th>\n",
       "      <td>6</td>\n",
       "    </tr>\n",
       "    <tr>\n",
       "      <th rowspan=\"2\" valign=\"top\">1951</th>\n",
       "      <th>N</th>\n",
       "      <td>18</td>\n",
       "    </tr>\n",
       "    <tr>\n",
       "      <th>Y</th>\n",
       "      <td>9</td>\n",
       "    </tr>\n",
       "    <tr>\n",
       "      <th>1952</th>\n",
       "      <th>N</th>\n",
       "      <td>16</td>\n",
       "    </tr>\n",
       "    <tr>\n",
       "      <th>...</th>\n",
       "      <th>...</th>\n",
       "      <td>...</td>\n",
       "    </tr>\n",
       "    <tr>\n",
       "      <th>2016</th>\n",
       "      <th>Y</th>\n",
       "      <td>5</td>\n",
       "    </tr>\n",
       "    <tr>\n",
       "      <th rowspan=\"2\" valign=\"top\">2017</th>\n",
       "      <th>N</th>\n",
       "      <td>111</td>\n",
       "    </tr>\n",
       "    <tr>\n",
       "      <th>Y</th>\n",
       "      <td>11</td>\n",
       "    </tr>\n",
       "    <tr>\n",
       "      <th rowspan=\"2\" valign=\"top\">2018</th>\n",
       "      <th>N</th>\n",
       "      <td>51</td>\n",
       "    </tr>\n",
       "    <tr>\n",
       "      <th>Y</th>\n",
       "      <td>1</td>\n",
       "    </tr>\n",
       "  </tbody>\n",
       "</table>\n",
       "<p>138 rows × 1 columns</p>\n",
       "</div>"
      ],
      "text/plain": [
       "            Case_Number\n",
       "Year Fatal             \n",
       "1950 N               20\n",
       "     Y                6\n",
       "1951 N               18\n",
       "     Y                9\n",
       "1952 N               16\n",
       "...                 ...\n",
       "2016 Y                5\n",
       "2017 N              111\n",
       "     Y               11\n",
       "2018 N               51\n",
       "     Y                1\n",
       "\n",
       "[138 rows x 1 columns]"
      ]
     },
     "execution_count": 73,
     "metadata": {},
     "output_type": "execute_result"
    }
   ],
   "source": [
    "new_vals3 =[]\n",
    "for i in arr3:    \n",
    "        new_vals3.append((i,\"Y\",0))\n",
    "\n",
    "df4 = pd.DataFrame(new_vals3,columns=['Year', 'Fatal', 'Case_Number'])\n",
    "sk_year2 = pd.concat([sk_year2,df4])\n",
    "sk_year2 = sk_year2.groupby([\"Year\",\"Fatal\"]).agg({\"Case_Number\":sum})\n",
    "sk_year2"
   ]
  },
  {
   "cell_type": "code",
   "execution_count": 74,
   "id": "908e791d",
   "metadata": {},
   "outputs": [
    {
     "data": {
      "text/html": [
       "<div>\n",
       "<style scoped>\n",
       "    .dataframe tbody tr th:only-of-type {\n",
       "        vertical-align: middle;\n",
       "    }\n",
       "\n",
       "    .dataframe tbody tr th {\n",
       "        vertical-align: top;\n",
       "    }\n",
       "\n",
       "    .dataframe thead th {\n",
       "        text-align: right;\n",
       "    }\n",
       "</style>\n",
       "<table border=\"1\" class=\"dataframe\">\n",
       "  <thead>\n",
       "    <tr style=\"text-align: right;\">\n",
       "      <th></th>\n",
       "      <th></th>\n",
       "      <th>Case_Number</th>\n",
       "      <th>Percentage</th>\n",
       "    </tr>\n",
       "    <tr>\n",
       "      <th>Year</th>\n",
       "      <th>Fatal</th>\n",
       "      <th></th>\n",
       "      <th></th>\n",
       "    </tr>\n",
       "  </thead>\n",
       "  <tbody>\n",
       "    <tr>\n",
       "      <th>2016</th>\n",
       "      <th>Y</th>\n",
       "      <td>5</td>\n",
       "      <td>4.27</td>\n",
       "    </tr>\n",
       "    <tr>\n",
       "      <th rowspan=\"2\" valign=\"top\">2017</th>\n",
       "      <th>N</th>\n",
       "      <td>111</td>\n",
       "      <td>90.98</td>\n",
       "    </tr>\n",
       "    <tr>\n",
       "      <th>Y</th>\n",
       "      <td>11</td>\n",
       "      <td>9.02</td>\n",
       "    </tr>\n",
       "    <tr>\n",
       "      <th rowspan=\"2\" valign=\"top\">2018</th>\n",
       "      <th>N</th>\n",
       "      <td>51</td>\n",
       "      <td>98.08</td>\n",
       "    </tr>\n",
       "    <tr>\n",
       "      <th>Y</th>\n",
       "      <td>1</td>\n",
       "      <td>1.92</td>\n",
       "    </tr>\n",
       "  </tbody>\n",
       "</table>\n",
       "</div>"
      ],
      "text/plain": [
       "            Case_Number  Percentage\n",
       "Year Fatal                         \n",
       "2016 Y                5        4.27\n",
       "2017 N              111       90.98\n",
       "     Y               11        9.02\n",
       "2018 N               51       98.08\n",
       "     Y                1        1.92"
      ]
     },
     "execution_count": 74,
     "metadata": {},
     "output_type": "execute_result"
    }
   ],
   "source": [
    "#Añado una columna que calcule los porcentajes de Fatal y No Fatal por especie\n",
    "sk_year2[\"Percentage\"] = 0\n",
    "for ele in sk_year2.Percentage:\n",
    "    for i in range(138):\n",
    "        if i%2 == 0:\n",
    "            a = (sk_year2.iloc[(i,0)])\n",
    "            b = (sk_year2.iloc[(i,0)])+(sk_year2.iloc[(i+1,0)])\n",
    "            sk_year2.iloc[(i,1)] = round((a/b)*100,2)\n",
    "        else:            \n",
    "            a = (sk_year2.iloc[(i,0)])\n",
    "            b = (sk_year2.iloc[(i,0)])+(sk_year2.iloc[(i-1,0)])\n",
    "            sk_year2.iloc[(i,1)] = round((a/b)*100,2)\n",
    "            \n",
    "sk_year2.tail()    "
   ]
  },
  {
   "cell_type": "code",
   "execution_count": 75,
   "id": "cc8e58ce",
   "metadata": {},
   "outputs": [
    {
     "data": {
      "image/png": "[encoded data removed]",
      "text/plain": [
       "<Figure size 1500x600 with 1 Axes>"
      ]
     },
     "metadata": {},
     "output_type": "display_data"
    }
   ],
   "source": [
    "plt.figure(figsize=(15, 6))\n",
    "plt.ylabel('Percentage of Fatality')\n",
    "plt.title(\"Percentage of Fatality - Year\")\n",
    "sk_year2.loc(axis=0)[pd.IndexSlice[:, \"Y\"]].Percentage.plot.bar();"
   ]
  },
  {
   "cell_type": "code",
   "execution_count": 76,
   "id": "67368476",
   "metadata": {},
   "outputs": [],
   "source": [
    "sk.drop(columns = [\"Unnamed_23\"], inplace = True)\n"
   ]
  },
  {
   "cell_type": "code",
   "execution_count": 77,
   "id": "cd5d5ba5",
   "metadata": {},
   "outputs": [
    {
     "data": {
      "text/plain": [
       "(5572, 24)"
      ]
     },
     "execution_count": 77,
     "metadata": {},
     "output_type": "execute_result"
    }
   ],
   "source": [
    "sk.shape"
   ]
  },
  {
   "cell_type": "code",
   "execution_count": 78,
   "id": "f9cc3b8f",
   "metadata": {},
   "outputs": [],
   "source": [
    "#Reseteo el index y exporto el DataFrame límpio\n",
    "sk.reset_index(drop=True, inplace=True)\n",
    "sk.to_csv(\"../attacks_clean.csv\", index=False)"
   ]
  },
  {
   "cell_type": "code",
   "execution_count": null,
   "id": "08180bc4",
   "metadata": {},
   "outputs": [],
   "source": []
  }
 ],
 "metadata": {
  "kernelspec": {
   "display_name": "Python 3 (ipykernel)",
   "language": "python",
   "name": "python3"
  },
  "language_info": {
   "codemirror_mode": {
    "name": "ipython",
    "version": 3
   },
   "file_extension": ".py",
   "mimetype": "text/x-python",
   "name": "python",
   "nbconvert_exporter": "python",
   "pygments_lexer": "ipython3",
   "version": "3.11.4"
  }
 },
 "nbformat": 4,
 "nbformat_minor": 5
}
